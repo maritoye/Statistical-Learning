{
 "cells": [
  {
   "cell_type": "markdown",
   "metadata": {},
   "source": [
    "# Multi Layer Perceptron Classifier"
   ]
  },
  {
   "cell_type": "markdown",
   "metadata": {},
   "source": [
    "https://scikit-learn.org/stable/modules/generated/sklearn.neural_network.MLPClassifier.html"
   ]
  },
  {
   "cell_type": "code",
   "execution_count": 1,
   "metadata": {},
   "outputs": [
    {
     "data": {
      "text/html": [
       "<div>\n",
       "<style scoped>\n",
       "    .dataframe tbody tr th:only-of-type {\n",
       "        vertical-align: middle;\n",
       "    }\n",
       "\n",
       "    .dataframe tbody tr th {\n",
       "        vertical-align: top;\n",
       "    }\n",
       "\n",
       "    .dataframe thead th {\n",
       "        text-align: right;\n",
       "    }\n",
       "</style>\n",
       "<table border=\"1\" class=\"dataframe\">\n",
       "  <thead>\n",
       "    <tr style=\"text-align: right;\">\n",
       "      <th></th>\n",
       "      <th>Unnamed: 0</th>\n",
       "      <th>Q1_natur_kom_1</th>\n",
       "      <th>Q1_natur_kom_2</th>\n",
       "      <th>Q1_natur_kom_3</th>\n",
       "      <th>Q1_kultur_kom_1</th>\n",
       "      <th>Q1_kultur_kom_2</th>\n",
       "      <th>Q1_kultur_kom_3</th>\n",
       "      <th>Q1_kultur_kom_4</th>\n",
       "      <th>Q1_kultur_kom_5</th>\n",
       "      <th>Q1_kultur_kom_6</th>\n",
       "      <th>...</th>\n",
       "      <th>Fylke_9</th>\n",
       "      <th>Fylke_10</th>\n",
       "      <th>Fylke_11</th>\n",
       "      <th>Fylke_12</th>\n",
       "      <th>Fylke_14</th>\n",
       "      <th>Fylke_15</th>\n",
       "      <th>Fylke_18</th>\n",
       "      <th>Fylke_19</th>\n",
       "      <th>Fylke_20</th>\n",
       "      <th>Fylke_50</th>\n",
       "    </tr>\n",
       "  </thead>\n",
       "  <tbody>\n",
       "    <tr>\n",
       "      <th>0</th>\n",
       "      <td>0</td>\n",
       "      <td>4.0</td>\n",
       "      <td>3.0</td>\n",
       "      <td>4.0</td>\n",
       "      <td>6.0</td>\n",
       "      <td>6.0</td>\n",
       "      <td>6.0</td>\n",
       "      <td>6.0</td>\n",
       "      <td>4.000000</td>\n",
       "      <td>6.0</td>\n",
       "      <td>...</td>\n",
       "      <td>0</td>\n",
       "      <td>0</td>\n",
       "      <td>0</td>\n",
       "      <td>0</td>\n",
       "      <td>0</td>\n",
       "      <td>0</td>\n",
       "      <td>1</td>\n",
       "      <td>0</td>\n",
       "      <td>0</td>\n",
       "      <td>0</td>\n",
       "    </tr>\n",
       "    <tr>\n",
       "      <th>1</th>\n",
       "      <td>1</td>\n",
       "      <td>5.0</td>\n",
       "      <td>3.0</td>\n",
       "      <td>3.0</td>\n",
       "      <td>6.0</td>\n",
       "      <td>4.0</td>\n",
       "      <td>6.0</td>\n",
       "      <td>4.0</td>\n",
       "      <td>5.000000</td>\n",
       "      <td>6.0</td>\n",
       "      <td>...</td>\n",
       "      <td>0</td>\n",
       "      <td>0</td>\n",
       "      <td>0</td>\n",
       "      <td>0</td>\n",
       "      <td>0</td>\n",
       "      <td>0</td>\n",
       "      <td>1</td>\n",
       "      <td>0</td>\n",
       "      <td>0</td>\n",
       "      <td>0</td>\n",
       "    </tr>\n",
       "    <tr>\n",
       "      <th>2</th>\n",
       "      <td>2</td>\n",
       "      <td>7.0</td>\n",
       "      <td>6.0</td>\n",
       "      <td>6.0</td>\n",
       "      <td>6.0</td>\n",
       "      <td>6.0</td>\n",
       "      <td>4.0</td>\n",
       "      <td>5.0</td>\n",
       "      <td>5.999987</td>\n",
       "      <td>6.0</td>\n",
       "      <td>...</td>\n",
       "      <td>0</td>\n",
       "      <td>0</td>\n",
       "      <td>0</td>\n",
       "      <td>0</td>\n",
       "      <td>0</td>\n",
       "      <td>0</td>\n",
       "      <td>0</td>\n",
       "      <td>0</td>\n",
       "      <td>0</td>\n",
       "      <td>0</td>\n",
       "    </tr>\n",
       "    <tr>\n",
       "      <th>3</th>\n",
       "      <td>3</td>\n",
       "      <td>6.0</td>\n",
       "      <td>6.0</td>\n",
       "      <td>3.0</td>\n",
       "      <td>3.0</td>\n",
       "      <td>2.0</td>\n",
       "      <td>2.0</td>\n",
       "      <td>2.0</td>\n",
       "      <td>4.000000</td>\n",
       "      <td>6.0</td>\n",
       "      <td>...</td>\n",
       "      <td>0</td>\n",
       "      <td>0</td>\n",
       "      <td>0</td>\n",
       "      <td>0</td>\n",
       "      <td>0</td>\n",
       "      <td>0</td>\n",
       "      <td>0</td>\n",
       "      <td>0</td>\n",
       "      <td>0</td>\n",
       "      <td>0</td>\n",
       "    </tr>\n",
       "    <tr>\n",
       "      <th>4</th>\n",
       "      <td>4</td>\n",
       "      <td>4.0</td>\n",
       "      <td>7.0</td>\n",
       "      <td>6.0</td>\n",
       "      <td>5.0</td>\n",
       "      <td>5.0</td>\n",
       "      <td>5.0</td>\n",
       "      <td>1.0</td>\n",
       "      <td>6.000000</td>\n",
       "      <td>5.0</td>\n",
       "      <td>...</td>\n",
       "      <td>0</td>\n",
       "      <td>0</td>\n",
       "      <td>0</td>\n",
       "      <td>0</td>\n",
       "      <td>0</td>\n",
       "      <td>0</td>\n",
       "      <td>1</td>\n",
       "      <td>0</td>\n",
       "      <td>0</td>\n",
       "      <td>0</td>\n",
       "    </tr>\n",
       "  </tbody>\n",
       "</table>\n",
       "<p>5 rows × 150 columns</p>\n",
       "</div>"
      ],
      "text/plain": [
       "   Unnamed: 0  Q1_natur_kom_1  Q1_natur_kom_2  Q1_natur_kom_3  \\\n",
       "0           0             4.0             3.0             4.0   \n",
       "1           1             5.0             3.0             3.0   \n",
       "2           2             7.0             6.0             6.0   \n",
       "3           3             6.0             6.0             3.0   \n",
       "4           4             4.0             7.0             6.0   \n",
       "\n",
       "   Q1_kultur_kom_1  Q1_kultur_kom_2  Q1_kultur_kom_3  Q1_kultur_kom_4  \\\n",
       "0              6.0              6.0              6.0              6.0   \n",
       "1              6.0              4.0              6.0              4.0   \n",
       "2              6.0              6.0              4.0              5.0   \n",
       "3              3.0              2.0              2.0              2.0   \n",
       "4              5.0              5.0              5.0              1.0   \n",
       "\n",
       "   Q1_kultur_kom_5  Q1_kultur_kom_6  ...  Fylke_9  Fylke_10  Fylke_11  \\\n",
       "0         4.000000              6.0  ...        0         0         0   \n",
       "1         5.000000              6.0  ...        0         0         0   \n",
       "2         5.999987              6.0  ...        0         0         0   \n",
       "3         4.000000              6.0  ...        0         0         0   \n",
       "4         6.000000              5.0  ...        0         0         0   \n",
       "\n",
       "   Fylke_12  Fylke_14  Fylke_15  Fylke_18  Fylke_19  Fylke_20  Fylke_50  \n",
       "0         0         0         0         1         0         0         0  \n",
       "1         0         0         0         1         0         0         0  \n",
       "2         0         0         0         0         0         0         0  \n",
       "3         0         0         0         0         0         0         0  \n",
       "4         0         0         0         1         0         0         0  \n",
       "\n",
       "[5 rows x 150 columns]"
      ]
     },
     "execution_count": 1,
     "metadata": {},
     "output_type": "execute_result"
    }
   ],
   "source": [
    "import pandas as pd\n",
    "\n",
    "data = pd.read_csv(\"kommune_multivariate.csv\")\n",
    "data.head()"
   ]
  },
  {
   "cell_type": "code",
   "execution_count": 2,
   "metadata": {},
   "outputs": [],
   "source": [
    "data = data.drop(['Unnamed: 0'],axis=1)\n",
    "data = data.drop(['Id'],axis=1)"
   ]
  },
  {
   "cell_type": "code",
   "execution_count": 3,
   "metadata": {},
   "outputs": [
    {
     "name": "stdout",
     "output_type": "stream",
     "text": [
      "(3359, 148)\n",
      "(3220, 148)\n"
     ]
    }
   ],
   "source": [
    "print(data.shape)\n",
    "data = data.dropna() \n",
    "print(data.shape)"
   ]
  },
  {
   "cell_type": "code",
   "execution_count": 4,
   "metadata": {},
   "outputs": [],
   "source": [
    "data = data[data.Q16 != 11.0]\n",
    "data = data[data.Q16 != 12.0]\n",
    "data = data[data.Q16 != 13.0]"
   ]
  },
  {
   "cell_type": "code",
   "execution_count": 5,
   "metadata": {},
   "outputs": [],
   "source": [
    "import math\n",
    "import numpy as np\n",
    "\n",
    "shuffled = data.iloc[np.random.permutation(len(data))]\n",
    "\n",
    "test = shuffled[:320] \n",
    "train = shuffled[320:]\n",
    "\n",
    "test_y = test['Q16']\n",
    "train_y = train['Q16']\n",
    "\n",
    "test_X = test.drop(['Q16'],axis=1).values\n",
    "train_X = train.drop(['Q16'],axis=1).values"
   ]
  },
  {
   "cell_type": "code",
   "execution_count": 6,
   "metadata": {},
   "outputs": [],
   "source": [
    "from sklearn.neural_network import MLPClassifier\n",
    "\n",
    "clf = MLPClassifier(random_state=1, max_iter=10000).fit(train_X, train_y)"
   ]
  },
  {
   "cell_type": "code",
   "execution_count": 7,
   "metadata": {},
   "outputs": [
    {
     "name": "stdout",
     "output_type": "stream",
     "text": [
      "[[8.86619336e-01 5.48102809e-07 9.60274040e-03 2.36238735e-04\n",
      "  7.58899715e-03 2.05752908e-06 3.93860150e-04 7.98488562e-02\n",
      "  1.56668354e-02 4.05298895e-05]\n",
      " [6.37264077e-01 2.28397157e-04 7.03671368e-02 7.21889869e-06\n",
      "  1.11837816e-01 1.03577443e-05 2.72408944e-03 5.22577040e-03\n",
      "  1.72335136e-01 3.19371518e-11]\n",
      " [9.97440646e-01 1.15616397e-05 2.07494444e-04 1.69476210e-04\n",
      "  3.31387211e-06 4.65759761e-05 2.79182293e-06 8.50920342e-06\n",
      "  1.25066388e-07 2.10950534e-03]]\n",
      "2459    1.0\n",
      "122     8.0\n",
      "1604    1.0\n",
      "Name: Q16, dtype: float64\n"
     ]
    }
   ],
   "source": [
    "print(clf.predict_proba(test_X[:3]))\n",
    "print(test_y[:3])"
   ]
  },
  {
   "cell_type": "code",
   "execution_count": 8,
   "metadata": {},
   "outputs": [
    {
     "data": {
      "text/plain": [
       "0.296875"
      ]
     },
     "execution_count": 8,
     "metadata": {},
     "output_type": "execute_result"
    }
   ],
   "source": [
    "clf.score(test_X, test_y)"
   ]
  },
  {
   "cell_type": "markdown",
   "metadata": {},
   "source": [
    "### Well that didnt really work. Time to make my own ANN"
   ]
  },
  {
   "cell_type": "markdown",
   "metadata": {},
   "source": [
    "Using this tutorial: \n",
    "https://medium.com/luca-chuangs-bapm-notes/build-a-neural-network-in-python-multi-class-classification-e940f74bd899"
   ]
  },
  {
   "cell_type": "code",
   "execution_count": 9,
   "metadata": {},
   "outputs": [],
   "source": [
    "# for reading data\n",
    "import pandas as pd\n",
    "import numpy as np\n",
    "from sklearn.preprocessing import LabelEncoder\n",
    "from keras.wrappers.scikit_learn import KerasClassifier\n",
    "from keras.utils import np_utils\n",
    "\n",
    "# for modeling\n",
    "from keras.models import Sequential\n",
    "from keras.layers import Dense, Dropout, Input\n",
    "from keras.callbacks import EarlyStopping"
   ]
  },
  {
   "cell_type": "code",
   "execution_count": 10,
   "metadata": {},
   "outputs": [
    {
     "data": {
      "text/plain": [
       "2459    1.0\n",
       "122     8.0\n",
       "1604    1.0\n",
       "1944    3.0\n",
       "3095    2.0\n",
       "Name: Q16, dtype: float64"
      ]
     },
     "execution_count": 10,
     "metadata": {},
     "output_type": "execute_result"
    }
   ],
   "source": [
    "test_y.head()"
   ]
  },
  {
   "cell_type": "code",
   "execution_count": 11,
   "metadata": {},
   "outputs": [
    {
     "name": "stdout",
     "output_type": "stream",
     "text": [
      "      parti_1.0  parti_2.0  parti_3.0  parti_4.0  parti_5.0  parti_6.0  \\\n",
      "2459          1          0          0          0          0          0   \n",
      "122           0          0          0          0          0          0   \n",
      "1604          1          0          0          0          0          0   \n",
      "1944          0          0          1          0          0          0   \n",
      "3095          0          1          0          0          0          0   \n",
      "...         ...        ...        ...        ...        ...        ...   \n",
      "647           0          0          0          0          0          0   \n",
      "492           0          0          0          0          0          0   \n",
      "2638          0          0          0          0          0          1   \n",
      "1748          0          0          0          0          0          0   \n",
      "1515          0          0          1          0          0          0   \n",
      "\n",
      "      parti_7.0  parti_8.0  parti_9.0  parti_10.0  \n",
      "2459          0          0          0           0  \n",
      "122           0          1          0           0  \n",
      "1604          0          0          0           0  \n",
      "1944          0          0          0           0  \n",
      "3095          0          0          0           0  \n",
      "...         ...        ...        ...         ...  \n",
      "647           0          0          1           0  \n",
      "492           1          0          0           0  \n",
      "2638          0          0          0           0  \n",
      "1748          1          0          0           0  \n",
      "1515          0          0          0           0  \n",
      "\n",
      "[320 rows x 10 columns]\n"
     ]
    }
   ],
   "source": [
    "dummy_y_test = pd.get_dummies(data=test_y, prefix='parti')\n",
    "print(dummy_y_test)"
   ]
  },
  {
   "cell_type": "code",
   "execution_count": 12,
   "metadata": {},
   "outputs": [
    {
     "name": "stdout",
     "output_type": "stream",
     "text": [
      "      parti_1.0  parti_2.0  parti_3.0  parti_4.0  parti_5.0  parti_6.0  \\\n",
      "1921          0          0          0          0          1          0   \n",
      "1099          0          0          0          1          0          0   \n",
      "2832          0          0          0          0          0          0   \n",
      "1606          0          0          0          0          0          0   \n",
      "1860          0          0          0          0          0          0   \n",
      "...         ...        ...        ...        ...        ...        ...   \n",
      "1978          1          0          0          0          0          0   \n",
      "1400          0          0          1          0          0          0   \n",
      "771           1          0          0          0          0          0   \n",
      "2524          0          0          0          0          0          0   \n",
      "3032          0          0          1          0          0          0   \n",
      "\n",
      "      parti_7.0  parti_8.0  parti_9.0  parti_10.0  \n",
      "1921          0          0          0           0  \n",
      "1099          0          0          0           0  \n",
      "2832          1          0          0           0  \n",
      "1606          1          0          0           0  \n",
      "1860          0          0          1           0  \n",
      "...         ...        ...        ...         ...  \n",
      "1978          0          0          0           0  \n",
      "1400          0          0          0           0  \n",
      "771           0          0          0           0  \n",
      "2524          0          1          0           0  \n",
      "3032          0          0          0           0  \n",
      "\n",
      "[2279 rows x 10 columns]\n"
     ]
    }
   ],
   "source": [
    "dummy_y_train = pd.get_dummies(data=train_y, prefix='parti')\n",
    "print(dummy_y_train)"
   ]
  },
  {
   "cell_type": "code",
   "execution_count": 13,
   "metadata": {},
   "outputs": [
    {
     "name": "stdout",
     "output_type": "stream",
     "text": [
      "WARNING:tensorflow:Please add `keras.layers.InputLayer` instead of `keras.Input` to Sequential model. `keras.Input` is intended to be used by Functional model.\n",
      "Model: \"sequential\"\n",
      "_________________________________________________________________\n",
      "Layer (type)                 Output Shape              Param #   \n",
      "=================================================================\n",
      "dense (Dense)                (None, 147)               21756     \n",
      "_________________________________________________________________\n",
      "dense_1 (Dense)              (None, 147)               21756     \n",
      "_________________________________________________________________\n",
      "dense_2 (Dense)              (None, 10)                1480      \n",
      "=================================================================\n",
      "Total params: 44,992\n",
      "Trainable params: 44,992\n",
      "Non-trainable params: 0\n",
      "_________________________________________________________________\n"
     ]
    }
   ],
   "source": [
    "# build a model\n",
    "model = Sequential()\n",
    "model.add(Input(shape=(train_X.shape[1],))) # input shape is (features,)\n",
    "model.add(Dense(train_X.shape[1], activation='relu'))\n",
    "model.add(Dense(train_X.shape[1], activation='relu'))\n",
    "model.add(Dense(10, activation='softmax'))\n",
    "model.summary()\n",
    "\n",
    "# compile the model\n",
    "model.compile(optimizer='adam', \n",
    "              loss='categorical_crossentropy', # this is different instead of binary_crossentropy (for regular classification)\n",
    "              metrics=['accuracy'])"
   ]
  },
  {
   "cell_type": "code",
   "execution_count": 14,
   "metadata": {},
   "outputs": [
    {
     "name": "stdout",
     "output_type": "stream",
     "text": [
      "Epoch 1/1000\n",
      "2051/2051 [==============================] - 27s 2ms/step - loss: 2.2238 - accuracy: 0.2687 - val_loss: 1.9860 - val_accuracy: 0.3026\n",
      "Epoch 2/1000\n",
      "2051/2051 [==============================] - 4s 2ms/step - loss: 1.9912 - accuracy: 0.2784 - val_loss: 2.0879 - val_accuracy: 0.2456\n",
      "Epoch 3/1000\n",
      "2051/2051 [==============================] - 4s 2ms/step - loss: 1.9622 - accuracy: 0.2993 - val_loss: 1.9674 - val_accuracy: 0.2763\n",
      "Epoch 4/1000\n",
      "2051/2051 [==============================] - 4s 2ms/step - loss: 1.9069 - accuracy: 0.2901 - val_loss: 1.9323 - val_accuracy: 0.2588\n",
      "Epoch 5/1000\n",
      "2051/2051 [==============================] - 4s 2ms/step - loss: 1.8863 - accuracy: 0.3226 - val_loss: 1.9725 - val_accuracy: 0.2675\n",
      "Epoch 6/1000\n",
      "2051/2051 [==============================] - 4s 2ms/step - loss: 1.8511 - accuracy: 0.3303 - val_loss: 1.9165 - val_accuracy: 0.2851\n",
      "Epoch 7/1000\n",
      "2051/2051 [==============================] - 4s 2ms/step - loss: 1.8325 - accuracy: 0.3338 - val_loss: 1.8754 - val_accuracy: 0.3026\n",
      "Epoch 8/1000\n",
      "2051/2051 [==============================] - 4s 2ms/step - loss: 1.8314 - accuracy: 0.3373 - val_loss: 1.9895 - val_accuracy: 0.2719\n",
      "Epoch 9/1000\n",
      "2051/2051 [==============================] - 4s 2ms/step - loss: 1.8066 - accuracy: 0.3463 - val_loss: 1.9114 - val_accuracy: 0.3114\n",
      "Epoch 10/1000\n",
      "2051/2051 [==============================] - 4s 2ms/step - loss: 1.8114 - accuracy: 0.3276 - val_loss: 1.8902 - val_accuracy: 0.3070\n",
      "Epoch 11/1000\n",
      "2051/2051 [==============================] - 4s 2ms/step - loss: 1.7706 - accuracy: 0.3606 - val_loss: 1.8855 - val_accuracy: 0.3202\n",
      "Epoch 12/1000\n",
      "2051/2051 [==============================] - 4s 2ms/step - loss: 1.7490 - accuracy: 0.3455 - val_loss: 1.8712 - val_accuracy: 0.3158\n",
      "Epoch 13/1000\n",
      "2051/2051 [==============================] - 4s 2ms/step - loss: 1.7697 - accuracy: 0.3643 - val_loss: 1.8784 - val_accuracy: 0.3070\n",
      "Epoch 14/1000\n",
      "2051/2051 [==============================] - 4s 2ms/step - loss: 1.7272 - accuracy: 0.3788 - val_loss: 1.9347 - val_accuracy: 0.3114\n",
      "Epoch 15/1000\n",
      "2051/2051 [==============================] - 4s 2ms/step - loss: 1.7200 - accuracy: 0.3871 - val_loss: 1.9713 - val_accuracy: 0.3070\n",
      "Epoch 16/1000\n",
      "2051/2051 [==============================] - 4s 2ms/step - loss: 1.7503 - accuracy: 0.3547 - val_loss: 1.8822 - val_accuracy: 0.3509\n",
      "Epoch 17/1000\n",
      "2051/2051 [==============================] - 4s 2ms/step - loss: 1.7585 - accuracy: 0.3552 - val_loss: 1.9446 - val_accuracy: 0.3202\n",
      "Epoch 18/1000\n",
      "2051/2051 [==============================] - 4s 2ms/step - loss: 1.6830 - accuracy: 0.3901 - val_loss: 1.8761 - val_accuracy: 0.3421\n",
      "Epoch 19/1000\n",
      "2051/2051 [==============================] - 4s 2ms/step - loss: 1.7085 - accuracy: 0.3671 - val_loss: 1.9381 - val_accuracy: 0.3246\n",
      "Epoch 20/1000\n",
      "2051/2051 [==============================] - 4s 2ms/step - loss: 1.7236 - accuracy: 0.3716 - val_loss: 1.9198 - val_accuracy: 0.3246\n",
      "Epoch 21/1000\n",
      "2051/2051 [==============================] - 4s 2ms/step - loss: 1.7451 - accuracy: 0.3630 - val_loss: 1.9318 - val_accuracy: 0.3289\n",
      "Epoch 22/1000\n",
      "2051/2051 [==============================] - 4s 2ms/step - loss: 1.6668 - accuracy: 0.4076 - val_loss: 1.9296 - val_accuracy: 0.3202\n"
     ]
    }
   ],
   "source": [
    "import keras\n",
    "from keras.callbacks import EarlyStopping\n",
    "\n",
    "# early stopping callback\n",
    "# This callback will stop the training when there is no improvement in  \n",
    "# the validation loss for 10 consecutive epochs.  \n",
    "es = keras.callbacks.EarlyStopping(monitor='val_loss', \n",
    "                                   mode='min',\n",
    "                                   patience=10, \n",
    "                                   restore_best_weights=True) # important - otherwise you just return the last weigths...\n",
    "\n",
    "# now we just update our model fit call\n",
    "history = model.fit(train_X,\n",
    "                    dummy_y_train,\n",
    "                    callbacks=[es],\n",
    "                    epochs=1000, # you can set this to a big number!\n",
    "                    batch_size=1,\n",
    "                    shuffle=True,\n",
    "                    validation_split=0.1,\n",
    "                    verbose=1)"
   ]
  },
  {
   "cell_type": "code",
   "execution_count": 15,
   "metadata": {},
   "outputs": [
    {
     "data": {
      "image/png": "[encoded data removed]",
      "text/plain": [
       "<Figure size 432x288 with 1 Axes>"
      ]
     },
     "metadata": {
      "needs_background": "light"
     },
     "output_type": "display_data"
    }
   ],
   "source": [
    "import matplotlib.pyplot as plt\n",
    "history_dict = history.history\n",
    "\n",
    "# learning curve\n",
    "# accuracy\n",
    "acc = history_dict['accuracy']\n",
    "val_acc = history_dict['val_accuracy']\n",
    "\n",
    "# loss\n",
    "loss = history_dict['loss']\n",
    "val_loss = history_dict['val_loss']\n",
    "\n",
    "# range of X (no. of epochs)\n",
    "epochs = range(1, len(acc) + 1)\n",
    "\n",
    "# plot\n",
    "# \"r\" is for \"solid red line\"\n",
    "plt.plot(epochs, acc, 'r', label='Training accuracy')\n",
    "# b is for \"solid blue line\"\n",
    "plt.plot(epochs, val_acc, 'b', label='Validation accuracy')\n",
    "plt.title('Training and validation accuracy')\n",
    "plt.xlabel('Epochs')\n",
    "plt.ylabel('Accuracy')\n",
    "plt.legend()\n",
    "\n",
    "plt.show()"
   ]
  },
  {
   "cell_type": "code",
   "execution_count": 16,
   "metadata": {},
   "outputs": [
    {
     "name": "stdout",
     "output_type": "stream",
     "text": [
      "(320, 10)\n",
      "[0.4862251  0.01480913 0.12275425 0.01562496 0.08204338 0.04084797\n",
      " 0.02931254 0.11163895 0.08786239 0.0088814 ]\n",
      "2459    1.0\n",
      "Name: Q16, dtype: float64\n",
      "[0.4862251  0.01480913 0.12275425 0.01562496 0.08204338 0.04084797\n",
      " 0.02931254 0.11163895 0.08786239 0.0088814 ]\n",
      "[1, 1, 3, 3, 3, 7, 1, 1, 1, 1, 3, 3, 1, 1, 1, 3, 1, 3, 7, 1, 1, 3, 3, 3, 3, 1, 3, 1, 1, 3, 1, 3, 3, 1, 3, 3, 3, 3, 1, 1, 1, 1, 1, 3, 3, 3, 1, 3, 3, 3, 1, 3, 3, 3, 1, 1, 1, 1, 1, 1, 1, 1, 3, 1, 1, 3, 1, 3, 1, 1, 5, 3, 1, 1, 3, 1, 1, 1, 1, 1, 1, 3, 1, 3, 1, 3, 1, 1, 1, 1, 3, 3, 3, 3, 1, 3, 1, 3, 1, 3, 1, 1, 1, 1, 3, 1, 3, 3, 3, 1, 1, 1, 3, 3, 1, 1, 1, 1, 1, 1, 3, 3, 3, 7, 3, 1, 3, 3, 3, 3, 1, 3, 3, 3, 1, 1, 1, 1, 3, 3, 3, 3, 3, 1, 3, 1, 1, 1, 1, 1, 1, 3, 1, 1, 1, 3, 3, 1, 1, 1, 1, 3, 1, 1, 1, 3, 1, 1, 3, 3, 3, 1, 1, 3, 3, 1, 1, 1, 1, 3, 1, 3, 1, 1, 3, 3, 3, 3, 1, 3, 3, 1, 1, 3, 3, 1, 3, 1, 3, 1, 1, 1, 3, 1, 3, 1, 1, 1, 3, 1, 1, 1, 1, 1, 1, 3, 1, 1, 3, 3, 3, 3, 1, 1, 1, 3, 1, 3, 3, 1, 1, 1, 1, 1, 1, 1, 3, 1, 1, 3, 3, 1, 1, 1, 1, 3, 1, 1, 1, 3, 1, 3, 3, 1, 1, 1, 3, 3, 1, 3, 1, 1, 1, 1, 3, 3, 1, 3, 3, 3, 1, 1, 3, 1, 3, 1, 1, 3, 1, 3, 1, 3, 1, 3, 1, 3, 1, 1, 3, 1, 1, 1, 1, 1, 1, 3, 3, 1, 1, 3, 3, 1, 1, 1, 1, 1, 3, 3, 3, 3, 3, 1, 3, 3, 3, 1, 1, 1, 1, 3]\n",
      "Accuracy: 0.334375\n"
     ]
    }
   ],
   "source": [
    "from sklearn.metrics import confusion_matrix\n",
    "from sklearn.metrics import classification_report\n",
    "from sklearn import metrics\n",
    "\n",
    "preds = model.predict(test_X) # see how the model did!\n",
    "print(preds.shape)\n",
    "print(preds[0]) # i'm spreading that prediction across three nodes and they sum to 1\n",
    "print(test_y[:1])\n",
    "\n",
    "results = []\n",
    "\n",
    "for i in range(len(preds)):\n",
    "    num = (np.argmax(preds[i])) +1\n",
    "    results.append(num)\n",
    "    \n",
    "#max_value = max(number_list) Return the max value of the list.\n",
    "#max_index = number_list.index(max(number_list)) \n",
    "\n",
    "print(preds[0])\n",
    "print(results)\n",
    "\n",
    "print(\"Accuracy:\",metrics.accuracy_score(test_y, results))\n",
    "\n",
    "# actual is left, predicted is top\n",
    "# names can be found by inspecting Y\n",
    "#matrix = confusion_matrix(dummy_y_test.argmax(axis=1), preds.argmax(axis=1))\n",
    "\n",
    "# more detail on how well things were predicted\n",
    "#print(classification_report(dummy_y_test.argmax(axis=1), preds.argmax(axis=1)))"
   ]
  },
  {
   "cell_type": "code",
   "execution_count": null,
   "metadata": {},
   "outputs": [],
   "source": []
  }
 ],
 "metadata": {
  "kernelspec": {
   "display_name": "Python 3",
   "language": "python",
   "name": "python3"
  },
  "language_info": {
   "codemirror_mode": {
    "name": "ipython",
    "version": 3
   },
   "file_extension": ".py",
   "mimetype": "text/x-python",
   "name": "python",
   "nbconvert_exporter": "python",
   "pygments_lexer": "ipython3",
   "version": "3.8.5"
  }
 },
 "nbformat": 4,
 "nbformat_minor": 4
}
