{
 "cells": [
  {
   "cell_type": "markdown",
   "metadata": {},
   "source": [
    "# Neural Networks"
   ]
  },
  {
   "cell_type": "markdown",
   "metadata": {},
   "source": [
    "## Scikits learn's Multi Layer Perceptron Classifier"
   ]
  },
  {
   "cell_type": "markdown",
   "metadata": {},
   "source": [
    "https://scikit-learn.org/stable/modules/generated/sklearn.neural_network.MLPClassifier.html"
   ]
  },
  {
   "cell_type": "code",
   "execution_count": 45,
   "metadata": {},
   "outputs": [
    {
     "data": {
      "text/html": [
       "<div>\n",
       "<style scoped>\n",
       "    .dataframe tbody tr th:only-of-type {\n",
       "        vertical-align: middle;\n",
       "    }\n",
       "\n",
       "    .dataframe tbody tr th {\n",
       "        vertical-align: top;\n",
       "    }\n",
       "\n",
       "    .dataframe thead th {\n",
       "        text-align: right;\n",
       "    }\n",
       "</style>\n",
       "<table border=\"1\" class=\"dataframe\">\n",
       "  <thead>\n",
       "    <tr style=\"text-align: right;\">\n",
       "      <th></th>\n",
       "      <th>Unnamed: 0</th>\n",
       "      <th>Q1_natur_kom_1</th>\n",
       "      <th>Q1_natur_kom_2</th>\n",
       "      <th>Q1_natur_kom_3</th>\n",
       "      <th>Q1_kultur_kom_1</th>\n",
       "      <th>Q1_kultur_kom_2</th>\n",
       "      <th>Q1_kultur_kom_3</th>\n",
       "      <th>Q1_kultur_kom_4</th>\n",
       "      <th>Q1_kultur_kom_5</th>\n",
       "      <th>Q1_kultur_kom_6</th>\n",
       "      <th>...</th>\n",
       "      <th>Fylke_9</th>\n",
       "      <th>Fylke_10</th>\n",
       "      <th>Fylke_11</th>\n",
       "      <th>Fylke_12</th>\n",
       "      <th>Fylke_14</th>\n",
       "      <th>Fylke_15</th>\n",
       "      <th>Fylke_18</th>\n",
       "      <th>Fylke_19</th>\n",
       "      <th>Fylke_20</th>\n",
       "      <th>Fylke_50</th>\n",
       "    </tr>\n",
       "  </thead>\n",
       "  <tbody>\n",
       "    <tr>\n",
       "      <th>0</th>\n",
       "      <td>0</td>\n",
       "      <td>4.0</td>\n",
       "      <td>3.0</td>\n",
       "      <td>4.0</td>\n",
       "      <td>6.0</td>\n",
       "      <td>6.0</td>\n",
       "      <td>6.0</td>\n",
       "      <td>6.0</td>\n",
       "      <td>4.000000</td>\n",
       "      <td>6.0</td>\n",
       "      <td>...</td>\n",
       "      <td>0</td>\n",
       "      <td>0</td>\n",
       "      <td>0</td>\n",
       "      <td>0</td>\n",
       "      <td>0</td>\n",
       "      <td>0</td>\n",
       "      <td>1</td>\n",
       "      <td>0</td>\n",
       "      <td>0</td>\n",
       "      <td>0</td>\n",
       "    </tr>\n",
       "    <tr>\n",
       "      <th>1</th>\n",
       "      <td>1</td>\n",
       "      <td>5.0</td>\n",
       "      <td>3.0</td>\n",
       "      <td>3.0</td>\n",
       "      <td>6.0</td>\n",
       "      <td>4.0</td>\n",
       "      <td>6.0</td>\n",
       "      <td>4.0</td>\n",
       "      <td>5.000000</td>\n",
       "      <td>6.0</td>\n",
       "      <td>...</td>\n",
       "      <td>0</td>\n",
       "      <td>0</td>\n",
       "      <td>0</td>\n",
       "      <td>0</td>\n",
       "      <td>0</td>\n",
       "      <td>0</td>\n",
       "      <td>1</td>\n",
       "      <td>0</td>\n",
       "      <td>0</td>\n",
       "      <td>0</td>\n",
       "    </tr>\n",
       "    <tr>\n",
       "      <th>2</th>\n",
       "      <td>2</td>\n",
       "      <td>7.0</td>\n",
       "      <td>6.0</td>\n",
       "      <td>6.0</td>\n",
       "      <td>6.0</td>\n",
       "      <td>6.0</td>\n",
       "      <td>4.0</td>\n",
       "      <td>5.0</td>\n",
       "      <td>5.999987</td>\n",
       "      <td>6.0</td>\n",
       "      <td>...</td>\n",
       "      <td>0</td>\n",
       "      <td>0</td>\n",
       "      <td>0</td>\n",
       "      <td>0</td>\n",
       "      <td>0</td>\n",
       "      <td>0</td>\n",
       "      <td>0</td>\n",
       "      <td>0</td>\n",
       "      <td>0</td>\n",
       "      <td>0</td>\n",
       "    </tr>\n",
       "    <tr>\n",
       "      <th>3</th>\n",
       "      <td>3</td>\n",
       "      <td>6.0</td>\n",
       "      <td>6.0</td>\n",
       "      <td>3.0</td>\n",
       "      <td>3.0</td>\n",
       "      <td>2.0</td>\n",
       "      <td>2.0</td>\n",
       "      <td>2.0</td>\n",
       "      <td>4.000000</td>\n",
       "      <td>6.0</td>\n",
       "      <td>...</td>\n",
       "      <td>0</td>\n",
       "      <td>0</td>\n",
       "      <td>0</td>\n",
       "      <td>0</td>\n",
       "      <td>0</td>\n",
       "      <td>0</td>\n",
       "      <td>0</td>\n",
       "      <td>0</td>\n",
       "      <td>0</td>\n",
       "      <td>0</td>\n",
       "    </tr>\n",
       "    <tr>\n",
       "      <th>4</th>\n",
       "      <td>4</td>\n",
       "      <td>4.0</td>\n",
       "      <td>7.0</td>\n",
       "      <td>6.0</td>\n",
       "      <td>5.0</td>\n",
       "      <td>5.0</td>\n",
       "      <td>5.0</td>\n",
       "      <td>1.0</td>\n",
       "      <td>6.000000</td>\n",
       "      <td>5.0</td>\n",
       "      <td>...</td>\n",
       "      <td>0</td>\n",
       "      <td>0</td>\n",
       "      <td>0</td>\n",
       "      <td>0</td>\n",
       "      <td>0</td>\n",
       "      <td>0</td>\n",
       "      <td>1</td>\n",
       "      <td>0</td>\n",
       "      <td>0</td>\n",
       "      <td>0</td>\n",
       "    </tr>\n",
       "  </tbody>\n",
       "</table>\n",
       "<p>5 rows × 150 columns</p>\n",
       "</div>"
      ],
      "text/plain": [
       "   Unnamed: 0  Q1_natur_kom_1  Q1_natur_kom_2  Q1_natur_kom_3  \\\n",
       "0           0             4.0             3.0             4.0   \n",
       "1           1             5.0             3.0             3.0   \n",
       "2           2             7.0             6.0             6.0   \n",
       "3           3             6.0             6.0             3.0   \n",
       "4           4             4.0             7.0             6.0   \n",
       "\n",
       "   Q1_kultur_kom_1  Q1_kultur_kom_2  Q1_kultur_kom_3  Q1_kultur_kom_4  \\\n",
       "0              6.0              6.0              6.0              6.0   \n",
       "1              6.0              4.0              6.0              4.0   \n",
       "2              6.0              6.0              4.0              5.0   \n",
       "3              3.0              2.0              2.0              2.0   \n",
       "4              5.0              5.0              5.0              1.0   \n",
       "\n",
       "   Q1_kultur_kom_5  Q1_kultur_kom_6  ...  Fylke_9  Fylke_10  Fylke_11  \\\n",
       "0         4.000000              6.0  ...        0         0         0   \n",
       "1         5.000000              6.0  ...        0         0         0   \n",
       "2         5.999987              6.0  ...        0         0         0   \n",
       "3         4.000000              6.0  ...        0         0         0   \n",
       "4         6.000000              5.0  ...        0         0         0   \n",
       "\n",
       "   Fylke_12  Fylke_14  Fylke_15  Fylke_18  Fylke_19  Fylke_20  Fylke_50  \n",
       "0         0         0         0         1         0         0         0  \n",
       "1         0         0         0         1         0         0         0  \n",
       "2         0         0         0         0         0         0         0  \n",
       "3         0         0         0         0         0         0         0  \n",
       "4         0         0         0         1         0         0         0  \n",
       "\n",
       "[5 rows x 150 columns]"
      ]
     },
     "execution_count": 45,
     "metadata": {},
     "output_type": "execute_result"
    }
   ],
   "source": [
    "import pandas as pd\n",
    "\n",
    "data = pd.read_csv(\"kommune_multivariate.csv\")\n",
    "data.head()"
   ]
  },
  {
   "cell_type": "code",
   "execution_count": 46,
   "metadata": {},
   "outputs": [],
   "source": [
    "data = data.drop(['Unnamed: 0'],axis=1)\n",
    "data = data.drop(['Id'],axis=1)"
   ]
  },
  {
   "cell_type": "code",
   "execution_count": 47,
   "metadata": {},
   "outputs": [
    {
     "name": "stdout",
     "output_type": "stream",
     "text": [
      "(3359, 148)\n",
      "(3220, 148)\n"
     ]
    }
   ],
   "source": [
    "print(data.shape)\n",
    "data = data.dropna() \n",
    "print(data.shape)"
   ]
  },
  {
   "cell_type": "code",
   "execution_count": 48,
   "metadata": {},
   "outputs": [],
   "source": [
    "data = data[data.Q16 != 11.0]\n",
    "data = data[data.Q16 != 12.0]\n",
    "data = data[data.Q16 != 13.0]"
   ]
  },
  {
   "cell_type": "code",
   "execution_count": 49,
   "metadata": {},
   "outputs": [],
   "source": [
    "import math\n",
    "import numpy as np\n",
    "\n",
    "shuffled = data.iloc[np.random.permutation(len(data))]\n",
    "\n",
    "test = shuffled[:320] \n",
    "train = shuffled[320:]\n",
    "\n",
    "test_y = test['Q16']\n",
    "train_y = train['Q16']\n",
    "\n",
    "test_X = test.drop(['Q16'],axis=1).values\n",
    "train_X = train.drop(['Q16'],axis=1).values"
   ]
  },
  {
   "cell_type": "code",
   "execution_count": 50,
   "metadata": {},
   "outputs": [],
   "source": [
    "from sklearn.neural_network import MLPClassifier\n",
    "\n",
    "clf = MLPClassifier(random_state=1, max_iter=10000).fit(train_X, train_y)"
   ]
  },
  {
   "cell_type": "code",
   "execution_count": 51,
   "metadata": {},
   "outputs": [
    {
     "name": "stdout",
     "output_type": "stream",
     "text": [
      "Accuracy: 0.25\n"
     ]
    }
   ],
   "source": [
    "from sklearn.metrics import accuracy_score\n",
    "\n",
    "preds = clf.predict(test_X) \n",
    "print(\"Accuracy:\",accuracy_score(test_y, preds))"
   ]
  },
  {
   "cell_type": "code",
   "execution_count": 52,
   "metadata": {},
   "outputs": [
    {
     "name": "stdout",
     "output_type": "stream",
     "text": [
      "[0.26535088 0.25       0.21491228 0.27631579 0.2989011 ]\n",
      "0.26 accuracy with a standard deviation of 0.03\n"
     ]
    }
   ],
   "source": [
    "from sklearn.model_selection import cross_val_score\n",
    "scores_mlp = cross_val_score(clf, train_X, train_y, cv=5)\n",
    "print(scores_mlp)\n",
    "print(\"%0.2f accuracy with a standard deviation of %0.2f\" % (scores_mlp.mean(), scores_mlp.std()))"
   ]
  },
  {
   "cell_type": "code",
   "execution_count": 53,
   "metadata": {},
   "outputs": [
    {
     "name": "stdout",
     "output_type": "stream",
     "text": [
      "      1.0   2.0   3.0   4.0   5.0   6.0   7.0   8.0   9.0   10.0\n",
      "1.0     27    10    19     3     1     0     9     8     5     1\n",
      "2.0      7     3    12     1     0     0     3     0     1     1\n",
      "3.0     23     8    33     1     2     2     3     6     1     1\n",
      "4.0      2     3     4     2     0     0     2     1     1     1\n",
      "5.0      4     1     5     0     3     0     1     2     2     0\n",
      "6.0      2     1     2     0     1     0     1     0     1     0\n",
      "7.0      8     3    10     3     1     0     4     2     1     2\n",
      "8.0     10     1     2     0     5     0     3     4     2     0\n",
      "9.0      3     0     6     0     0     1     1     1     4     0\n",
      "10.0     2     0     5     0     1     0     2     0     0     0\n"
     ]
    },
    {
     "data": {
      "image/png": "[encoded data removed]",
      "text/plain": [
       "<Figure size 432x288 with 2 Axes>"
      ]
     },
     "metadata": {
      "needs_background": "light"
     },
     "output_type": "display_data"
    }
   ],
   "source": [
    "from sklearn.metrics import confusion_matrix\n",
    "from sklearn.metrics import plot_confusion_matrix\n",
    "import matplotlib.pyplot as plt\n",
    "\n",
    "conmat = confusion_matrix(test_y, preds)\n",
    "val = np.mat(conmat) \n",
    "\n",
    "classnames = list(set(train[\"Q16\"]))\n",
    "\n",
    "df_cm = pd.DataFrame(val, index=classnames, columns=classnames)\n",
    "\n",
    "print(df_cm)\n",
    "\n",
    "plot_confusion_matrix(clf,test_X,test_y)\n",
    "plt.savefig(\"cm_mlp.png\")"
   ]
  },
  {
   "cell_type": "markdown",
   "metadata": {},
   "source": [
    "## Self-defined Neural Network"
   ]
  },
  {
   "cell_type": "markdown",
   "metadata": {},
   "source": [
    "Using this tutorial: \n",
    "https://medium.com/luca-chuangs-bapm-notes/build-a-neural-network-in-python-multi-class-classification-e940f74bd899"
   ]
  },
  {
   "cell_type": "code",
   "execution_count": 10,
   "metadata": {},
   "outputs": [],
   "source": [
    "# for reading data\n",
    "import pandas as pd\n",
    "import numpy as np\n",
    "from sklearn.preprocessing import LabelEncoder\n",
    "from keras.wrappers.scikit_learn import KerasClassifier\n",
    "from keras.utils import np_utils\n",
    "\n",
    "# for modeling\n",
    "from keras.models import Sequential\n",
    "from keras.layers import Dense, Dropout, Input\n",
    "from keras.callbacks import EarlyStopping"
   ]
  },
  {
   "cell_type": "code",
   "execution_count": 11,
   "metadata": {},
   "outputs": [
    {
     "data": {
      "text/plain": [
       "2756    9.0\n",
       "710     3.0\n",
       "2440    3.0\n",
       "3202    3.0\n",
       "551     3.0\n",
       "Name: Q16, dtype: float64"
      ]
     },
     "execution_count": 11,
     "metadata": {},
     "output_type": "execute_result"
    }
   ],
   "source": [
    "test_y.head()"
   ]
  },
  {
   "cell_type": "code",
   "execution_count": 25,
   "metadata": {},
   "outputs": [],
   "source": [
    "dummy_y_test = pd.get_dummies(data=test_y, prefix='parti')"
   ]
  },
  {
   "cell_type": "code",
   "execution_count": 26,
   "metadata": {},
   "outputs": [],
   "source": [
    "dummy_y_train = pd.get_dummies(data=train_y, prefix='parti')"
   ]
  },
  {
   "cell_type": "code",
   "execution_count": 14,
   "metadata": {},
   "outputs": [
    {
     "name": "stdout",
     "output_type": "stream",
     "text": [
      "WARNING:tensorflow:Please add `keras.layers.InputLayer` instead of `keras.Input` to Sequential model. `keras.Input` is intended to be used by Functional model.\n",
      "Model: \"sequential\"\n",
      "_________________________________________________________________\n",
      "Layer (type)                 Output Shape              Param #   \n",
      "=================================================================\n",
      "dense (Dense)                (None, 147)               21756     \n",
      "_________________________________________________________________\n",
      "dense_1 (Dense)              (None, 147)               21756     \n",
      "_________________________________________________________________\n",
      "dense_2 (Dense)              (None, 10)                1480      \n",
      "=================================================================\n",
      "Total params: 44,992\n",
      "Trainable params: 44,992\n",
      "Non-trainable params: 0\n",
      "_________________________________________________________________\n"
     ]
    }
   ],
   "source": [
    "# build a model\n",
    "model = Sequential()\n",
    "model.add(Input(shape=(train_X.shape[1],))) # input shape is (features,)\n",
    "model.add(Dense(train_X.shape[1], activation='relu'))\n",
    "model.add(Dense(train_X.shape[1], activation='relu'))\n",
    "model.add(Dense(10, activation='softmax'))\n",
    "model.summary()\n",
    "\n",
    "# compile the model\n",
    "model.compile(optimizer='adam', \n",
    "              loss='categorical_crossentropy', # this is different instead of binary_crossentropy (for regular classification)\n",
    "              metrics=['accuracy'])"
   ]
  },
  {
   "cell_type": "code",
   "execution_count": 15,
   "metadata": {},
   "outputs": [
    {
     "name": "stdout",
     "output_type": "stream",
     "text": [
      "Epoch 1/1000\n",
      "2051/2051 [==============================] - 26s 2ms/step - loss: 2.1560 - accuracy: 0.2719 - val_loss: 2.0646 - val_accuracy: 0.2588\n",
      "Epoch 2/1000\n",
      "2051/2051 [==============================] - 3s 2ms/step - loss: 1.9483 - accuracy: 0.2828 - val_loss: 1.9599 - val_accuracy: 0.2675\n",
      "Epoch 3/1000\n",
      "2051/2051 [==============================] - 3s 2ms/step - loss: 1.9492 - accuracy: 0.3259 - val_loss: 1.9178 - val_accuracy: 0.3026\n",
      "Epoch 4/1000\n",
      "2051/2051 [==============================] - 4s 2ms/step - loss: 1.8692 - accuracy: 0.3291 - val_loss: 1.8967 - val_accuracy: 0.2939\n",
      "Epoch 5/1000\n",
      "2051/2051 [==============================] - 4s 2ms/step - loss: 1.8646 - accuracy: 0.3424 - val_loss: 1.9094 - val_accuracy: 0.2939\n",
      "Epoch 6/1000\n",
      "2051/2051 [==============================] - 4s 2ms/step - loss: 1.8382 - accuracy: 0.3486 - val_loss: 1.9007 - val_accuracy: 0.3289\n",
      "Epoch 7/1000\n",
      "2051/2051 [==============================] - 5s 2ms/step - loss: 1.8539 - accuracy: 0.3354 - val_loss: 1.8514 - val_accuracy: 0.2982\n",
      "Epoch 8/1000\n",
      "2051/2051 [==============================] - 6s 3ms/step - loss: 1.8216 - accuracy: 0.3395 - val_loss: 1.8549 - val_accuracy: 0.3465\n",
      "Epoch 9/1000\n",
      "2051/2051 [==============================] - 7s 4ms/step - loss: 1.8028 - accuracy: 0.3263 - val_loss: 1.8697 - val_accuracy: 0.3246\n",
      "Epoch 10/1000\n",
      "2051/2051 [==============================] - 7s 3ms/step - loss: 1.7909 - accuracy: 0.3546 - val_loss: 1.8328 - val_accuracy: 0.3377\n",
      "Epoch 11/1000\n",
      "2051/2051 [==============================] - 6s 3ms/step - loss: 1.7597 - accuracy: 0.3644 - val_loss: 2.0220 - val_accuracy: 0.2763\n",
      "Epoch 12/1000\n",
      "2051/2051 [==============================] - 5s 2ms/step - loss: 1.7776 - accuracy: 0.3646 - val_loss: 1.8223 - val_accuracy: 0.3684\n",
      "Epoch 13/1000\n",
      "2051/2051 [==============================] - 5s 2ms/step - loss: 1.7673 - accuracy: 0.3601 - val_loss: 1.8273 - val_accuracy: 0.3289\n",
      "Epoch 14/1000\n",
      "2051/2051 [==============================] - 5s 3ms/step - loss: 1.7744 - accuracy: 0.3797 - val_loss: 1.8776 - val_accuracy: 0.3158\n",
      "Epoch 15/1000\n",
      "2051/2051 [==============================] - 4s 2ms/step - loss: 1.7400 - accuracy: 0.3824 - val_loss: 1.8321 - val_accuracy: 0.3728\n",
      "Epoch 16/1000\n",
      "2051/2051 [==============================] - 4s 2ms/step - loss: 1.7187 - accuracy: 0.3930 - val_loss: 1.8251 - val_accuracy: 0.3596\n",
      "Epoch 17/1000\n",
      "2051/2051 [==============================] - 5s 2ms/step - loss: 1.7131 - accuracy: 0.3919 - val_loss: 1.9332 - val_accuracy: 0.2895\n",
      "Epoch 18/1000\n",
      "2051/2051 [==============================] - 4s 2ms/step - loss: 1.7217 - accuracy: 0.3795 - val_loss: 2.2394 - val_accuracy: 0.3377\n",
      "Epoch 19/1000\n",
      "2051/2051 [==============================] - 4s 2ms/step - loss: 1.7136 - accuracy: 0.3980 - val_loss: 1.8510 - val_accuracy: 0.3202\n",
      "Epoch 20/1000\n",
      "2051/2051 [==============================] - 5s 2ms/step - loss: 1.6825 - accuracy: 0.3916 - val_loss: 1.9309 - val_accuracy: 0.3421\n",
      "Epoch 21/1000\n",
      "2051/2051 [==============================] - 4s 2ms/step - loss: 1.6938 - accuracy: 0.3937 - val_loss: 1.8858 - val_accuracy: 0.3640\n",
      "Epoch 22/1000\n",
      "2051/2051 [==============================] - 4s 2ms/step - loss: 1.6486 - accuracy: 0.4037 - val_loss: 1.9989 - val_accuracy: 0.3421\n"
     ]
    }
   ],
   "source": [
    "import keras\n",
    "from keras.callbacks import EarlyStopping\n",
    "\n",
    "# This callback will stop the training when there is no improvement in the validation loss for 10 consecutive epochs.  \n",
    "es = keras.callbacks.EarlyStopping(monitor='val_loss', \n",
    "                                   mode='min',\n",
    "                                   patience=10, \n",
    "                                   restore_best_weights=True) # important - otherwise you just return the last weigths\n",
    "\n",
    "# now we just update our model fit call\n",
    "history = model.fit(train_X,\n",
    "                    dummy_y_train,\n",
    "                    callbacks=[es],\n",
    "                    epochs=1000, \n",
    "                    batch_size=1,\n",
    "                    shuffle=True,\n",
    "                    validation_split=0.1,\n",
    "                    verbose=1)"
   ]
  },
  {
   "cell_type": "code",
   "execution_count": 16,
   "metadata": {},
   "outputs": [
    {
     "data": {
      "image/png": "[encoded data removed]",
      "text/plain": [
       "<Figure size 432x288 with 1 Axes>"
      ]
     },
     "metadata": {
      "needs_background": "light"
     },
     "output_type": "display_data"
    }
   ],
   "source": [
    "import matplotlib.pyplot as plt\n",
    "history_dict = history.history\n",
    "\n",
    "# learning curve\n",
    "# accuracy\n",
    "acc = history_dict['accuracy']\n",
    "val_acc = history_dict['val_accuracy']\n",
    "\n",
    "# loss\n",
    "loss = history_dict['loss']\n",
    "val_loss = history_dict['val_loss']\n",
    "\n",
    "# range of X (no. of epochs)\n",
    "epochs = range(1, len(acc) + 1)\n",
    "\n",
    "# plot\n",
    "# \"r\" is for \"solid red line\"\n",
    "plt.plot(epochs, acc, 'r', label='Training accuracy')\n",
    "# b is for \"solid blue line\"\n",
    "plt.plot(epochs, val_acc, 'b', label='Validation accuracy')\n",
    "plt.title('Training and validation accuracy')\n",
    "plt.xlabel('Epochs')\n",
    "plt.ylabel('Accuracy')\n",
    "plt.legend()\n",
    "\n",
    "plt.show()"
   ]
  },
  {
   "cell_type": "code",
   "execution_count": 17,
   "metadata": {},
   "outputs": [
    {
     "name": "stdout",
     "output_type": "stream",
     "text": [
      "Accuracy: 0.325\n"
     ]
    }
   ],
   "source": [
    "from sklearn.metrics import confusion_matrix\n",
    "from sklearn.metrics import classification_report\n",
    "from sklearn import metrics\n",
    "\n",
    "preds = model.predict(test_X) \n",
    "\n",
    "results = []\n",
    "\n",
    "for i in range(len(preds)):\n",
    "    num = (np.argmax(preds[i])) +1\n",
    "    results.append(num)\n",
    "\n",
    "print(\"Accuracy:\",metrics.accuracy_score(test_y, results))"
   ]
  },
  {
   "cell_type": "code",
   "execution_count": 18,
   "metadata": {},
   "outputs": [
    {
     "name": "stdout",
     "output_type": "stream",
     "text": [
      "      1.0   2.0   3.0   4.0   5.0   6.0   7.0   8.0   9.0   10.0\n",
      "1.0     65     1    21     1     0     0     0     0     0     0\n",
      "2.0     20     0    14     0     0     0     1     0     0     0\n",
      "3.0     57     3    37     0     0     0     0     0     0     0\n",
      "4.0      7     0     1     0     0     0     0     0     0     0\n",
      "5.0     14     0     0     0     1     0     0     2     0     0\n",
      "6.0      3     0     1     0     0     0     0     0     0     0\n",
      "7.0     21     0     3     0     0     0     1     0     0     0\n",
      "8.0     14     0     0     0     3     0     0     0     0     0\n",
      "9.0     16     1     3     0     0     1     0     1     0     0\n",
      "10.0     2     1     3     0     0     0     0     1     0     0\n"
     ]
    }
   ],
   "source": [
    "from sklearn.metrics import confusion_matrix\n",
    "from sklearn.metrics import plot_confusion_matrix\n",
    "import matplotlib.pyplot as plt\n",
    "\n",
    "conmat = confusion_matrix(test_y, results)\n",
    "val = np.mat(conmat) \n",
    "\n",
    "classnames = list(set(train[\"Q16\"]))\n",
    "\n",
    "df_cm = pd.DataFrame(val, index=classnames, columns=classnames)\n",
    "\n",
    "print(df_cm)"
   ]
  },
  {
   "cell_type": "code",
   "execution_count": 19,
   "metadata": {},
   "outputs": [
    {
     "data": {
      "image/png": "[encoded data removed]",
      "text/plain": [
       "<Figure size 720x504 with 2 Axes>"
      ]
     },
     "metadata": {
      "needs_background": "light"
     },
     "output_type": "display_data"
    }
   ],
   "source": [
    "import seaborn as sn\n",
    "plt.figure(figsize = (10,7))\n",
    "sn.heatmap(df_cm, annot=True)\n",
    "plt.savefig(\"cm_ann.png\")"
   ]
  },
  {
   "cell_type": "code",
   "execution_count": 44,
   "metadata": {},
   "outputs": [
    {
     "name": "stdout",
     "output_type": "stream",
     "text": [
      "WARNING:tensorflow:Please add `keras.layers.InputLayer` instead of `keras.Input` to Sequential model. `keras.Input` is intended to be used by Functional model.\n",
      "Model: \"sequential_33\"\n",
      "_________________________________________________________________\n",
      "Layer (type)                 Output Shape              Param #   \n",
      "=================================================================\n",
      "dense_99 (Dense)             (None, 147)               21756     \n",
      "_________________________________________________________________\n",
      "dense_100 (Dense)            (None, 147)               21756     \n",
      "_________________________________________________________________\n",
      "dense_101 (Dense)            (None, 10)                1480      \n",
      "=================================================================\n",
      "Total params: 44,992\n",
      "Trainable params: 44,992\n",
      "Non-trainable params: 0\n",
      "_________________________________________________________________\n",
      "Epoch 1/1000\n",
      "1817/1817 [==============================] - 5s 2ms/step - loss: 2.2253 - accuracy: 0.2386 - val_loss: 1.9727 - val_accuracy: 0.2970\n",
      "Epoch 2/1000\n",
      "1817/1817 [==============================] - 3s 2ms/step - loss: 2.0069 - accuracy: 0.2791 - val_loss: 1.9951 - val_accuracy: 0.2921\n",
      "Epoch 3/1000\n",
      "1817/1817 [==============================] - 3s 2ms/step - loss: 1.9424 - accuracy: 0.3109 - val_loss: 1.9343 - val_accuracy: 0.3020\n",
      "Epoch 4/1000\n",
      "1817/1817 [==============================] - 3s 2ms/step - loss: 1.9113 - accuracy: 0.3190 - val_loss: 1.9313 - val_accuracy: 0.3218\n",
      "Epoch 5/1000\n",
      "1817/1817 [==============================] - 3s 2ms/step - loss: 1.8753 - accuracy: 0.3484 - val_loss: 1.9053 - val_accuracy: 0.3317\n",
      "Epoch 6/1000\n",
      "1817/1817 [==============================] - 3s 2ms/step - loss: 1.8573 - accuracy: 0.3489 - val_loss: 2.0396 - val_accuracy: 0.3020\n",
      "Epoch 7/1000\n",
      "1817/1817 [==============================] - 3s 2ms/step - loss: 1.8226 - accuracy: 0.3486 - val_loss: 1.9311 - val_accuracy: 0.3317\n",
      "Epoch 8/1000\n",
      "1817/1817 [==============================] - 3s 2ms/step - loss: 1.8164 - accuracy: 0.3558 - val_loss: 1.8680 - val_accuracy: 0.3416\n",
      "Epoch 9/1000\n",
      "1817/1817 [==============================] - 3s 2ms/step - loss: 1.8102 - accuracy: 0.3430 - val_loss: 1.8846 - val_accuracy: 0.3564\n",
      "Epoch 10/1000\n",
      "1817/1817 [==============================] - 3s 2ms/step - loss: 1.8083 - accuracy: 0.3548 - val_loss: 1.8853 - val_accuracy: 0.3069\n",
      "Epoch 11/1000\n",
      "1817/1817 [==============================] - 3s 2ms/step - loss: 1.7673 - accuracy: 0.3800 - val_loss: 1.9024 - val_accuracy: 0.3168\n",
      "Epoch 12/1000\n",
      "1817/1817 [==============================] - 4s 2ms/step - loss: 1.8043 - accuracy: 0.3489 - val_loss: 1.8707 - val_accuracy: 0.3317\n",
      "Epoch 13/1000\n",
      "1817/1817 [==============================] - 3s 2ms/step - loss: 1.7603 - accuracy: 0.3551 - val_loss: 1.9035 - val_accuracy: 0.3218\n",
      "Epoch 14/1000\n",
      "1817/1817 [==============================] - 3s 2ms/step - loss: 1.7624 - accuracy: 0.3852 - val_loss: 1.8530 - val_accuracy: 0.3168\n",
      "Epoch 15/1000\n",
      "1817/1817 [==============================] - 3s 2ms/step - loss: 1.7143 - accuracy: 0.3854 - val_loss: 1.9472 - val_accuracy: 0.3317\n",
      "Epoch 16/1000\n",
      "1817/1817 [==============================] - 3s 2ms/step - loss: 1.7491 - accuracy: 0.3782 - val_loss: 1.9206 - val_accuracy: 0.3168\n",
      "Epoch 17/1000\n",
      "1817/1817 [==============================] - 3s 2ms/step - loss: 1.7851 - accuracy: 0.3592 - val_loss: 1.9269 - val_accuracy: 0.3069\n",
      "Epoch 18/1000\n",
      "1817/1817 [==============================] - 3s 2ms/step - loss: 1.7444 - accuracy: 0.3900 - val_loss: 1.9347 - val_accuracy: 0.3020\n",
      "Epoch 19/1000\n",
      "1817/1817 [==============================] - 3s 2ms/step - loss: 1.7058 - accuracy: 0.3753 - val_loss: 1.9315 - val_accuracy: 0.2970\n",
      "Epoch 20/1000\n",
      "1817/1817 [==============================] - 3s 2ms/step - loss: 1.7213 - accuracy: 0.3834 - val_loss: 2.0290 - val_accuracy: 0.2822\n",
      "Epoch 21/1000\n",
      "1817/1817 [==============================] - 3s 2ms/step - loss: 1.6745 - accuracy: 0.3848 - val_loss: 1.8870 - val_accuracy: 0.3267\n",
      "Epoch 22/1000\n",
      "1817/1817 [==============================] - 3s 2ms/step - loss: 1.7039 - accuracy: 0.3668 - val_loss: 1.8912 - val_accuracy: 0.3416\n",
      "Epoch 23/1000\n",
      "1817/1817 [==============================] - 4s 2ms/step - loss: 1.6928 - accuracy: 0.3809 - val_loss: 1.9103 - val_accuracy: 0.3366\n",
      "Epoch 24/1000\n",
      "1817/1817 [==============================] - 4s 2ms/step - loss: 1.6763 - accuracy: 0.3938 - val_loss: 1.9341 - val_accuracy: 0.2871\n",
      "Accuracy: 0.3603448275862069\n",
      "WARNING:tensorflow:Please add `keras.layers.InputLayer` instead of `keras.Input` to Sequential model. `keras.Input` is intended to be used by Functional model.\n",
      "Model: \"sequential_34\"\n",
      "_________________________________________________________________\n",
      "Layer (type)                 Output Shape              Param #   \n",
      "=================================================================\n",
      "dense_102 (Dense)            (None, 147)               21756     \n",
      "_________________________________________________________________\n",
      "dense_103 (Dense)            (None, 147)               21756     \n",
      "_________________________________________________________________\n",
      "dense_104 (Dense)            (None, 10)                1480      \n",
      "=================================================================\n",
      "Total params: 44,992\n",
      "Trainable params: 44,992\n",
      "Non-trainable params: 0\n",
      "_________________________________________________________________\n",
      "Epoch 1/1000\n",
      "1817/1817 [==============================] - 5s 2ms/step - loss: 2.2813 - accuracy: 0.2393 - val_loss: 1.9798 - val_accuracy: 0.3069\n",
      "Epoch 2/1000\n",
      "1817/1817 [==============================] - 4s 2ms/step - loss: 1.9795 - accuracy: 0.3004 - val_loss: 1.9362 - val_accuracy: 0.3020\n",
      "Epoch 3/1000\n",
      "1817/1817 [==============================] - 3s 2ms/step - loss: 1.9320 - accuracy: 0.3136 - val_loss: 1.8541 - val_accuracy: 0.3465\n",
      "Epoch 4/1000\n",
      "1817/1817 [==============================] - 4s 2ms/step - loss: 1.8791 - accuracy: 0.3153 - val_loss: 1.8837 - val_accuracy: 0.3069\n",
      "Epoch 5/1000\n",
      "1817/1817 [==============================] - 5s 3ms/step - loss: 1.8758 - accuracy: 0.3183 - val_loss: 1.8963 - val_accuracy: 0.2921\n",
      "Epoch 6/1000\n",
      "1817/1817 [==============================] - 5s 3ms/step - loss: 1.7974 - accuracy: 0.3585 - val_loss: 1.9096 - val_accuracy: 0.3267\n",
      "Epoch 7/1000\n",
      "1817/1817 [==============================] - 4s 2ms/step - loss: 1.8167 - accuracy: 0.3438 - val_loss: 1.8426 - val_accuracy: 0.2970\n",
      "Epoch 8/1000\n",
      "1817/1817 [==============================] - 4s 2ms/step - loss: 1.7866 - accuracy: 0.3646 - val_loss: 1.8930 - val_accuracy: 0.3267\n",
      "Epoch 9/1000\n",
      "1817/1817 [==============================] - 5s 2ms/step - loss: 1.7793 - accuracy: 0.3757 - val_loss: 2.1292 - val_accuracy: 0.2376\n",
      "Epoch 10/1000\n",
      "1817/1817 [==============================] - 5s 3ms/step - loss: 1.7752 - accuracy: 0.3596 - val_loss: 1.8955 - val_accuracy: 0.3218\n",
      "Epoch 11/1000\n",
      "1817/1817 [==============================] - 4s 2ms/step - loss: 1.7180 - accuracy: 0.3980 - val_loss: 1.8564 - val_accuracy: 0.3168\n",
      "Epoch 12/1000\n",
      "1817/1817 [==============================] - 3s 2ms/step - loss: 1.7442 - accuracy: 0.3650 - val_loss: 1.8867 - val_accuracy: 0.2871\n",
      "Epoch 13/1000\n",
      "1817/1817 [==============================] - 4s 2ms/step - loss: 1.7137 - accuracy: 0.3686 - val_loss: 1.9175 - val_accuracy: 0.3119\n",
      "Epoch 14/1000\n",
      "1817/1817 [==============================] - 5s 3ms/step - loss: 1.6750 - accuracy: 0.4248 - val_loss: 1.8844 - val_accuracy: 0.3168\n",
      "Epoch 15/1000\n",
      "1817/1817 [==============================] - 5s 3ms/step - loss: 1.6607 - accuracy: 0.4231 - val_loss: 1.8466 - val_accuracy: 0.3168\n",
      "Epoch 16/1000\n",
      "1817/1817 [==============================] - 5s 3ms/step - loss: 1.7028 - accuracy: 0.3913 - val_loss: 1.8548 - val_accuracy: 0.3069\n",
      "Epoch 17/1000\n",
      "1817/1817 [==============================] - 4s 2ms/step - loss: 1.6650 - accuracy: 0.3945 - val_loss: 1.8884 - val_accuracy: 0.3218\n",
      "Accuracy: 0.3137931034482759\n",
      "WARNING:tensorflow:Please add `keras.layers.InputLayer` instead of `keras.Input` to Sequential model. `keras.Input` is intended to be used by Functional model.\n",
      "Model: \"sequential_35\"\n",
      "_________________________________________________________________\n",
      "Layer (type)                 Output Shape              Param #   \n",
      "=================================================================\n",
      "dense_105 (Dense)            (None, 147)               21756     \n",
      "_________________________________________________________________\n",
      "dense_106 (Dense)            (None, 147)               21756     \n",
      "_________________________________________________________________\n",
      "dense_107 (Dense)            (None, 10)                1480      \n",
      "=================================================================\n",
      "Total params: 44,992\n",
      "Trainable params: 44,992\n",
      "Non-trainable params: 0\n",
      "_________________________________________________________________\n",
      "Epoch 1/1000\n"
     ]
    },
    {
     "name": "stdout",
     "output_type": "stream",
     "text": [
      "1817/1817 [==============================] - 6s 2ms/step - loss: 2.2959 - accuracy: 0.2735 - val_loss: 2.0015 - val_accuracy: 0.2574\n",
      "Epoch 2/1000\n",
      "1817/1817 [==============================] - 4s 2ms/step - loss: 1.9489 - accuracy: 0.3099 - val_loss: 1.9484 - val_accuracy: 0.3020\n",
      "Epoch 3/1000\n",
      "1817/1817 [==============================] - 4s 2ms/step - loss: 1.9230 - accuracy: 0.3295 - val_loss: 1.9563 - val_accuracy: 0.2970\n",
      "Epoch 4/1000\n",
      "1817/1817 [==============================] - 4s 2ms/step - loss: 1.8574 - accuracy: 0.3481 - val_loss: 1.9151 - val_accuracy: 0.3069\n",
      "Epoch 5/1000\n",
      "1817/1817 [==============================] - 4s 2ms/step - loss: 1.8391 - accuracy: 0.3426 - val_loss: 1.8447 - val_accuracy: 0.3515\n",
      "Epoch 6/1000\n",
      "1817/1817 [==============================] - 3s 2ms/step - loss: 1.8013 - accuracy: 0.3399 - val_loss: 1.9537 - val_accuracy: 0.3218\n",
      "Epoch 7/1000\n",
      "1817/1817 [==============================] - 4s 2ms/step - loss: 1.7998 - accuracy: 0.3573 - val_loss: 1.8664 - val_accuracy: 0.3218\n",
      "Epoch 8/1000\n",
      "1817/1817 [==============================] - 4s 2ms/step - loss: 1.7769 - accuracy: 0.3659 - val_loss: 1.8887 - val_accuracy: 0.3218\n",
      "Epoch 9/1000\n",
      "1817/1817 [==============================] - 4s 2ms/step - loss: 1.7633 - accuracy: 0.3714 - val_loss: 1.8558 - val_accuracy: 0.3762\n",
      "Epoch 10/1000\n",
      "1817/1817 [==============================] - 5s 2ms/step - loss: 1.8019 - accuracy: 0.3509 - val_loss: 1.9185 - val_accuracy: 0.3168\n",
      "Epoch 11/1000\n",
      "1817/1817 [==============================] - 4s 2ms/step - loss: 1.7172 - accuracy: 0.3715 - val_loss: 1.8749 - val_accuracy: 0.3663\n",
      "Epoch 12/1000\n",
      "1817/1817 [==============================] - 5s 3ms/step - loss: 1.7579 - accuracy: 0.3699 - val_loss: 1.8785 - val_accuracy: 0.3366\n",
      "Epoch 13/1000\n",
      "1817/1817 [==============================] - 4s 2ms/step - loss: 1.7197 - accuracy: 0.3791 - val_loss: 1.9020 - val_accuracy: 0.3267\n",
      "Epoch 14/1000\n",
      "1817/1817 [==============================] - 3s 2ms/step - loss: 1.7278 - accuracy: 0.3959 - val_loss: 2.0773 - val_accuracy: 0.2277\n",
      "Epoch 15/1000\n",
      "1817/1817 [==============================] - 3s 2ms/step - loss: 1.7352 - accuracy: 0.3623 - val_loss: 1.9783 - val_accuracy: 0.3267\n",
      "Accuracy: 0.31896551724137934\n",
      "WARNING:tensorflow:Please add `keras.layers.InputLayer` instead of `keras.Input` to Sequential model. `keras.Input` is intended to be used by Functional model.\n",
      "Model: \"sequential_36\"\n",
      "_________________________________________________________________\n",
      "Layer (type)                 Output Shape              Param #   \n",
      "=================================================================\n",
      "dense_108 (Dense)            (None, 147)               21756     \n",
      "_________________________________________________________________\n",
      "dense_109 (Dense)            (None, 147)               21756     \n",
      "_________________________________________________________________\n",
      "dense_110 (Dense)            (None, 10)                1480      \n",
      "=================================================================\n",
      "Total params: 44,992\n",
      "Trainable params: 44,992\n",
      "Non-trainable params: 0\n",
      "_________________________________________________________________\n",
      "Epoch 1/1000\n",
      "1817/1817 [==============================] - 5s 2ms/step - loss: 2.1875 - accuracy: 0.2788 - val_loss: 1.9505 - val_accuracy: 0.3069\n",
      "Epoch 2/1000\n",
      "1817/1817 [==============================] - 4s 2ms/step - loss: 1.9736 - accuracy: 0.3088 - val_loss: 1.9366 - val_accuracy: 0.2970\n",
      "Epoch 3/1000\n",
      "1817/1817 [==============================] - 5s 3ms/step - loss: 1.9131 - accuracy: 0.3122 - val_loss: 1.9758 - val_accuracy: 0.2921\n",
      "Epoch 4/1000\n",
      "1817/1817 [==============================] - 4s 2ms/step - loss: 1.8912 - accuracy: 0.3124 - val_loss: 1.8987 - val_accuracy: 0.3069\n",
      "Epoch 5/1000\n",
      "1817/1817 [==============================] - 5s 3ms/step - loss: 1.8583 - accuracy: 0.3159 - val_loss: 2.0081 - val_accuracy: 0.3069\n",
      "Epoch 6/1000\n",
      "1817/1817 [==============================] - 6s 3ms/step - loss: 1.8257 - accuracy: 0.3506 - val_loss: 1.8707 - val_accuracy: 0.3366\n",
      "Epoch 7/1000\n",
      "1817/1817 [==============================] - 5s 3ms/step - loss: 1.8156 - accuracy: 0.3360 - val_loss: 1.9494 - val_accuracy: 0.2921\n",
      "Epoch 8/1000\n",
      "1817/1817 [==============================] - 5s 3ms/step - loss: 1.7714 - accuracy: 0.3621 - val_loss: 1.8986 - val_accuracy: 0.3515\n",
      "Epoch 9/1000\n",
      "1817/1817 [==============================] - 5s 3ms/step - loss: 1.7795 - accuracy: 0.3420 - val_loss: 1.9194 - val_accuracy: 0.3317\n",
      "Epoch 10/1000\n",
      "1817/1817 [==============================] - 5s 3ms/step - loss: 1.7301 - accuracy: 0.3846 - val_loss: 1.8800 - val_accuracy: 0.3069\n",
      "Epoch 11/1000\n",
      "1817/1817 [==============================] - 5s 3ms/step - loss: 1.7307 - accuracy: 0.3674 - val_loss: 1.9227 - val_accuracy: 0.3020\n",
      "Epoch 12/1000\n",
      "1817/1817 [==============================] - 5s 3ms/step - loss: 1.7097 - accuracy: 0.3758 - val_loss: 1.9505 - val_accuracy: 0.3515\n",
      "Epoch 13/1000\n",
      "1817/1817 [==============================] - 5s 3ms/step - loss: 1.6883 - accuracy: 0.3910 - val_loss: 1.8394 - val_accuracy: 0.3267\n",
      "Epoch 14/1000\n",
      "1817/1817 [==============================] - 4s 2ms/step - loss: 1.7066 - accuracy: 0.3916 - val_loss: 1.8756 - val_accuracy: 0.2921\n",
      "Epoch 15/1000\n",
      "1817/1817 [==============================] - 5s 2ms/step - loss: 1.7018 - accuracy: 0.3927 - val_loss: 2.0213 - val_accuracy: 0.3020\n",
      "Epoch 16/1000\n",
      "1817/1817 [==============================] - 4s 2ms/step - loss: 1.6844 - accuracy: 0.3869 - val_loss: 1.8818 - val_accuracy: 0.3366\n",
      "Epoch 17/1000\n",
      "1817/1817 [==============================] - 4s 2ms/step - loss: 1.6546 - accuracy: 0.3998 - val_loss: 1.8784 - val_accuracy: 0.3416\n",
      "Epoch 18/1000\n",
      "1817/1817 [==============================] - 4s 2ms/step - loss: 1.6808 - accuracy: 0.3841 - val_loss: 1.9702 - val_accuracy: 0.3119\n",
      "Epoch 19/1000\n",
      "1817/1817 [==============================] - 4s 2ms/step - loss: 1.6915 - accuracy: 0.3885 - val_loss: 1.9027 - val_accuracy: 0.3366\n",
      "Epoch 20/1000\n",
      "1817/1817 [==============================] - 6s 3ms/step - loss: 1.6346 - accuracy: 0.4066 - val_loss: 2.0205 - val_accuracy: 0.2970\n",
      "Epoch 21/1000\n",
      "1817/1817 [==============================] - 5s 3ms/step - loss: 1.6992 - accuracy: 0.3751 - val_loss: 1.9096 - val_accuracy: 0.3218\n",
      "Epoch 22/1000\n",
      "1817/1817 [==============================] - 4s 2ms/step - loss: 1.6605 - accuracy: 0.3926 - val_loss: 1.9275 - val_accuracy: 0.3416\n",
      "Epoch 23/1000\n",
      "1817/1817 [==============================] - 5s 3ms/step - loss: 1.6612 - accuracy: 0.4013 - val_loss: 2.0314 - val_accuracy: 0.3168\n",
      "Accuracy: 0.35172413793103446\n",
      "WARNING:tensorflow:Please add `keras.layers.InputLayer` instead of `keras.Input` to Sequential model. `keras.Input` is intended to be used by Functional model.\n",
      "Model: \"sequential_37\"\n",
      "_________________________________________________________________\n",
      "Layer (type)                 Output Shape              Param #   \n",
      "=================================================================\n",
      "dense_111 (Dense)            (None, 147)               21756     \n",
      "_________________________________________________________________\n",
      "dense_112 (Dense)            (None, 147)               21756     \n",
      "_________________________________________________________________\n",
      "dense_113 (Dense)            (None, 10)                1480      \n",
      "=================================================================\n",
      "Total params: 44,992\n",
      "Trainable params: 44,992\n",
      "Non-trainable params: 0\n",
      "_________________________________________________________________\n",
      "Epoch 1/1000\n",
      "2088/2088 [==============================] - 10s 3ms/step - loss: 2.1801 - accuracy: 0.2720 - val_loss: 2.2055 - val_accuracy: 0.2543\n",
      "Epoch 2/1000\n",
      "2088/2088 [==============================] - 5s 2ms/step - loss: 1.9978 - accuracy: 0.2929 - val_loss: 2.2023 - val_accuracy: 0.2629\n",
      "Epoch 3/1000\n",
      "2088/2088 [==============================] - 5s 2ms/step - loss: 1.9546 - accuracy: 0.3114 - val_loss: 2.0261 - val_accuracy: 0.2543\n",
      "Epoch 4/1000\n",
      "2088/2088 [==============================] - 4s 2ms/step - loss: 1.8723 - accuracy: 0.3411 - val_loss: 2.0374 - val_accuracy: 0.2672\n",
      "Epoch 5/1000\n",
      "2088/2088 [==============================] - 5s 2ms/step - loss: 1.8600 - accuracy: 0.3405 - val_loss: 2.0381 - val_accuracy: 0.2845\n",
      "Epoch 6/1000\n"
     ]
    },
    {
     "name": "stdout",
     "output_type": "stream",
     "text": [
      "2088/2088 [==============================] - 6s 3ms/step - loss: 1.8369 - accuracy: 0.3537 - val_loss: 2.0597 - val_accuracy: 0.2802\n",
      "Epoch 7/1000\n",
      "2088/2088 [==============================] - 6s 3ms/step - loss: 1.8466 - accuracy: 0.3329 - val_loss: 2.1487 - val_accuracy: 0.2974\n",
      "Epoch 8/1000\n",
      "2088/2088 [==============================] - 6s 3ms/step - loss: 1.8308 - accuracy: 0.3624 - val_loss: 2.0657 - val_accuracy: 0.2845\n",
      "Epoch 9/1000\n",
      "2088/2088 [==============================] - 6s 3ms/step - loss: 1.8054 - accuracy: 0.3403 - val_loss: 2.1056 - val_accuracy: 0.2629\n",
      "Epoch 10/1000\n",
      "2088/2088 [==============================] - 5s 2ms/step - loss: 1.8134 - accuracy: 0.3468 - val_loss: 2.0992 - val_accuracy: 0.3060\n",
      "Epoch 11/1000\n",
      "2088/2088 [==============================] - 4s 2ms/step - loss: 1.7560 - accuracy: 0.3781 - val_loss: 2.0754 - val_accuracy: 0.2543\n",
      "Epoch 12/1000\n",
      "2088/2088 [==============================] - 4s 2ms/step - loss: 1.7913 - accuracy: 0.3658 - val_loss: 2.1805 - val_accuracy: 0.2802\n",
      "Epoch 13/1000\n",
      "2088/2088 [==============================] - 4s 2ms/step - loss: 1.7639 - accuracy: 0.3617 - val_loss: 2.0960 - val_accuracy: 0.2500\n",
      "Accuracy: 0.2724014336917563\n"
     ]
    }
   ],
   "source": [
    "scores = []\n",
    "\n",
    "for i in range(5):\n",
    "    test_split = i*580\n",
    "    train_data = pd.concat([data[:test_split],data[test_split+580:]])\n",
    "    test_data = data[test_split:test_split+580]\n",
    "    \n",
    "    test_y = test_data['Q16']\n",
    "    train_y = train_data['Q16']\n",
    "    \n",
    "    test_X = test_data.drop(['Q16'],axis=1).values\n",
    "    train_X = train_data.drop(['Q16'],axis=1).values\n",
    "    \n",
    "    dummy_y_test = pd.get_dummies(data=test_y, prefix='parti')\n",
    "    dummy_y_train = pd.get_dummies(data=train_y, prefix='parti')\n",
    "\n",
    "    # build a model\n",
    "    model = Sequential()\n",
    "    model.add(Input(shape=(train_X.shape[1],))) # input shape is (features,)\n",
    "    model.add(Dense(train_X.shape[1], activation='relu'))\n",
    "    model.add(Dense(train_X.shape[1], activation='relu'))\n",
    "    model.add(Dense(10, activation='softmax'))\n",
    "    model.summary()\n",
    "\n",
    "    # compile the model\n",
    "    model.compile(optimizer='adam', loss='categorical_crossentropy', metrics=['accuracy'])\n",
    "\n",
    "    # This callback will stop the training when there is no improvement in the validation loss for 10 consecutive epochs.  \n",
    "    es = keras.callbacks.EarlyStopping(monitor='val_loss', \n",
    "                                   mode='min',\n",
    "                                   patience=10, \n",
    "                                   restore_best_weights=True) # important - otherwise you just return the last weigths\n",
    "\n",
    "    # now we just update our model fit call\n",
    "    history = model.fit(train_X,\n",
    "                    dummy_y_train,\n",
    "                    callbacks=[es],\n",
    "                    epochs=1000, \n",
    "                    batch_size=1,\n",
    "                    shuffle=True,\n",
    "                    validation_split=0.1,\n",
    "                    verbose=1)\n",
    "    \n",
    "    preds = model.predict(test_X) \n",
    "\n",
    "    results = []\n",
    "\n",
    "    for i in range(len(preds)):\n",
    "        num = (np.argmax(preds[i])) +1\n",
    "        results.append(num)        \n",
    "    \n",
    "    accuracy = metrics.accuracy_score(test_y, results)\n",
    "    scores.append(accuracy)\n",
    "    print(\"Accuracy:\",metrics.accuracy_score(test_y, results))\n"
   ]
  },
  {
   "cell_type": "code",
   "execution_count": 43,
   "metadata": {},
   "outputs": [
    {
     "name": "stdout",
     "output_type": "stream",
     "text": [
      "Accuracy of the 5 runs:\n",
      "[0.28793103448275864, 0.2775862068965517, 0.3120689655172414, 0.3120689655172414, 0.32616487455197135]\n",
      "\n",
      "Mean and standard deviation of the accuracies:\n",
      "Mean: 0.3031640093931529\n",
      "Standard deviation: 0.019836228159442693\n"
     ]
    }
   ],
   "source": [
    "import statistics\n",
    "\n",
    "print(\"Accuracy of the 5 runs:\")\n",
    "print(scores)\n",
    "\n",
    "print(\"\\nMean and standard deviation of the accuracies:\")\n",
    "print(\"Mean: \" + str(statistics.mean(scores)))\n",
    "print(\"Standard deviation: \" + str(statistics.stdev(scores)))"
   ]
  },
  {
   "cell_type": "code",
   "execution_count": null,
   "metadata": {},
   "outputs": [],
   "source": []
  }
 ],
 "metadata": {
  "kernelspec": {
   "display_name": "Python 3",
   "language": "python",
   "name": "python3"
  },
  "language_info": {
   "codemirror_mode": {
    "name": "ipython",
    "version": 3
   },
   "file_extension": ".py",
   "mimetype": "text/x-python",
   "name": "python",
   "nbconvert_exporter": "python",
   "pygments_lexer": "ipython3",
   "version": "3.8.5"
  }
 },
 "nbformat": 4,
 "nbformat_minor": 4
}
