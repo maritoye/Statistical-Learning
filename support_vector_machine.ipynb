{
 "cells": [
  {
   "cell_type": "markdown",
   "metadata": {},
   "source": [
    "# Support Vector Machine"
   ]
  },
  {
   "cell_type": "markdown",
   "metadata": {},
   "source": [
    "https://scikit-learn.org/stable/modules/svm.html"
   ]
  },
  {
   "cell_type": "code",
   "execution_count": 1,
   "metadata": {},
   "outputs": [
    {
     "data": {
      "text/html": [
       "<div>\n",
       "<style scoped>\n",
       "    .dataframe tbody tr th:only-of-type {\n",
       "        vertical-align: middle;\n",
       "    }\n",
       "\n",
       "    .dataframe tbody tr th {\n",
       "        vertical-align: top;\n",
       "    }\n",
       "\n",
       "    .dataframe thead th {\n",
       "        text-align: right;\n",
       "    }\n",
       "</style>\n",
       "<table border=\"1\" class=\"dataframe\">\n",
       "  <thead>\n",
       "    <tr style=\"text-align: right;\">\n",
       "      <th></th>\n",
       "      <th>Unnamed: 0</th>\n",
       "      <th>Q1_natur_kom_1</th>\n",
       "      <th>Q1_natur_kom_2</th>\n",
       "      <th>Q1_natur_kom_3</th>\n",
       "      <th>Q1_kultur_kom_1</th>\n",
       "      <th>Q1_kultur_kom_2</th>\n",
       "      <th>Q1_kultur_kom_3</th>\n",
       "      <th>Q1_kultur_kom_4</th>\n",
       "      <th>Q1_kultur_kom_5</th>\n",
       "      <th>Q1_kultur_kom_6</th>\n",
       "      <th>...</th>\n",
       "      <th>Fylke_9</th>\n",
       "      <th>Fylke_10</th>\n",
       "      <th>Fylke_11</th>\n",
       "      <th>Fylke_12</th>\n",
       "      <th>Fylke_14</th>\n",
       "      <th>Fylke_15</th>\n",
       "      <th>Fylke_18</th>\n",
       "      <th>Fylke_19</th>\n",
       "      <th>Fylke_20</th>\n",
       "      <th>Fylke_50</th>\n",
       "    </tr>\n",
       "  </thead>\n",
       "  <tbody>\n",
       "    <tr>\n",
       "      <th>0</th>\n",
       "      <td>0</td>\n",
       "      <td>4.0</td>\n",
       "      <td>3.0</td>\n",
       "      <td>4.0</td>\n",
       "      <td>6.0</td>\n",
       "      <td>6.0</td>\n",
       "      <td>6.0</td>\n",
       "      <td>6.0</td>\n",
       "      <td>4.000000</td>\n",
       "      <td>6.0</td>\n",
       "      <td>...</td>\n",
       "      <td>0</td>\n",
       "      <td>0</td>\n",
       "      <td>0</td>\n",
       "      <td>0</td>\n",
       "      <td>0</td>\n",
       "      <td>0</td>\n",
       "      <td>1</td>\n",
       "      <td>0</td>\n",
       "      <td>0</td>\n",
       "      <td>0</td>\n",
       "    </tr>\n",
       "    <tr>\n",
       "      <th>1</th>\n",
       "      <td>1</td>\n",
       "      <td>5.0</td>\n",
       "      <td>3.0</td>\n",
       "      <td>3.0</td>\n",
       "      <td>6.0</td>\n",
       "      <td>4.0</td>\n",
       "      <td>6.0</td>\n",
       "      <td>4.0</td>\n",
       "      <td>5.000000</td>\n",
       "      <td>6.0</td>\n",
       "      <td>...</td>\n",
       "      <td>0</td>\n",
       "      <td>0</td>\n",
       "      <td>0</td>\n",
       "      <td>0</td>\n",
       "      <td>0</td>\n",
       "      <td>0</td>\n",
       "      <td>1</td>\n",
       "      <td>0</td>\n",
       "      <td>0</td>\n",
       "      <td>0</td>\n",
       "    </tr>\n",
       "    <tr>\n",
       "      <th>2</th>\n",
       "      <td>2</td>\n",
       "      <td>7.0</td>\n",
       "      <td>6.0</td>\n",
       "      <td>6.0</td>\n",
       "      <td>6.0</td>\n",
       "      <td>6.0</td>\n",
       "      <td>4.0</td>\n",
       "      <td>5.0</td>\n",
       "      <td>5.999987</td>\n",
       "      <td>6.0</td>\n",
       "      <td>...</td>\n",
       "      <td>0</td>\n",
       "      <td>0</td>\n",
       "      <td>0</td>\n",
       "      <td>0</td>\n",
       "      <td>0</td>\n",
       "      <td>0</td>\n",
       "      <td>0</td>\n",
       "      <td>0</td>\n",
       "      <td>0</td>\n",
       "      <td>0</td>\n",
       "    </tr>\n",
       "    <tr>\n",
       "      <th>3</th>\n",
       "      <td>3</td>\n",
       "      <td>6.0</td>\n",
       "      <td>6.0</td>\n",
       "      <td>3.0</td>\n",
       "      <td>3.0</td>\n",
       "      <td>2.0</td>\n",
       "      <td>2.0</td>\n",
       "      <td>2.0</td>\n",
       "      <td>4.000000</td>\n",
       "      <td>6.0</td>\n",
       "      <td>...</td>\n",
       "      <td>0</td>\n",
       "      <td>0</td>\n",
       "      <td>0</td>\n",
       "      <td>0</td>\n",
       "      <td>0</td>\n",
       "      <td>0</td>\n",
       "      <td>0</td>\n",
       "      <td>0</td>\n",
       "      <td>0</td>\n",
       "      <td>0</td>\n",
       "    </tr>\n",
       "    <tr>\n",
       "      <th>4</th>\n",
       "      <td>4</td>\n",
       "      <td>4.0</td>\n",
       "      <td>7.0</td>\n",
       "      <td>6.0</td>\n",
       "      <td>5.0</td>\n",
       "      <td>5.0</td>\n",
       "      <td>5.0</td>\n",
       "      <td>1.0</td>\n",
       "      <td>6.000000</td>\n",
       "      <td>5.0</td>\n",
       "      <td>...</td>\n",
       "      <td>0</td>\n",
       "      <td>0</td>\n",
       "      <td>0</td>\n",
       "      <td>0</td>\n",
       "      <td>0</td>\n",
       "      <td>0</td>\n",
       "      <td>1</td>\n",
       "      <td>0</td>\n",
       "      <td>0</td>\n",
       "      <td>0</td>\n",
       "    </tr>\n",
       "  </tbody>\n",
       "</table>\n",
       "<p>5 rows × 150 columns</p>\n",
       "</div>"
      ],
      "text/plain": [
       "   Unnamed: 0  Q1_natur_kom_1  Q1_natur_kom_2  Q1_natur_kom_3  \\\n",
       "0           0             4.0             3.0             4.0   \n",
       "1           1             5.0             3.0             3.0   \n",
       "2           2             7.0             6.0             6.0   \n",
       "3           3             6.0             6.0             3.0   \n",
       "4           4             4.0             7.0             6.0   \n",
       "\n",
       "   Q1_kultur_kom_1  Q1_kultur_kom_2  Q1_kultur_kom_3  Q1_kultur_kom_4  \\\n",
       "0              6.0              6.0              6.0              6.0   \n",
       "1              6.0              4.0              6.0              4.0   \n",
       "2              6.0              6.0              4.0              5.0   \n",
       "3              3.0              2.0              2.0              2.0   \n",
       "4              5.0              5.0              5.0              1.0   \n",
       "\n",
       "   Q1_kultur_kom_5  Q1_kultur_kom_6  ...  Fylke_9  Fylke_10  Fylke_11  \\\n",
       "0         4.000000              6.0  ...        0         0         0   \n",
       "1         5.000000              6.0  ...        0         0         0   \n",
       "2         5.999987              6.0  ...        0         0         0   \n",
       "3         4.000000              6.0  ...        0         0         0   \n",
       "4         6.000000              5.0  ...        0         0         0   \n",
       "\n",
       "   Fylke_12  Fylke_14  Fylke_15  Fylke_18  Fylke_19  Fylke_20  Fylke_50  \n",
       "0         0         0         0         1         0         0         0  \n",
       "1         0         0         0         1         0         0         0  \n",
       "2         0         0         0         0         0         0         0  \n",
       "3         0         0         0         0         0         0         0  \n",
       "4         0         0         0         1         0         0         0  \n",
       "\n",
       "[5 rows x 150 columns]"
      ]
     },
     "execution_count": 1,
     "metadata": {},
     "output_type": "execute_result"
    }
   ],
   "source": [
    "import pandas as pd\n",
    "\n",
    "data = pd.read_csv(\"kommune_multivariate.csv\")\n",
    "data.head()"
   ]
  },
  {
   "cell_type": "code",
   "execution_count": 2,
   "metadata": {},
   "outputs": [
    {
     "data": {
      "text/plain": [
       "(3359, 150)"
      ]
     },
     "execution_count": 2,
     "metadata": {},
     "output_type": "execute_result"
    }
   ],
   "source": [
    "data.shape"
   ]
  },
  {
   "cell_type": "code",
   "execution_count": 3,
   "metadata": {},
   "outputs": [],
   "source": [
    "data = data.drop(['Unnamed: 0'],axis=1)\n",
    "data = data.drop(['Id'],axis=1)"
   ]
  },
  {
   "cell_type": "code",
   "execution_count": 4,
   "metadata": {},
   "outputs": [
    {
     "name": "stdout",
     "output_type": "stream",
     "text": [
      "(3359, 148)\n",
      "(3220, 148)\n"
     ]
    }
   ],
   "source": [
    "print(data.shape)\n",
    "data = data.dropna() \n",
    "print(data.shape)"
   ]
  },
  {
   "cell_type": "code",
   "execution_count": 5,
   "metadata": {},
   "outputs": [],
   "source": [
    "data = data[data.Q16 != 11.0]\n",
    "data = data[data.Q16 != 12.0]\n",
    "data = data[data.Q16 != 13.0]"
   ]
  },
  {
   "cell_type": "code",
   "execution_count": 6,
   "metadata": {},
   "outputs": [
    {
     "data": {
      "text/plain": [
       "(2599, 148)"
      ]
     },
     "execution_count": 6,
     "metadata": {},
     "output_type": "execute_result"
    }
   ],
   "source": [
    "data.shape"
   ]
  },
  {
   "cell_type": "code",
   "execution_count": 7,
   "metadata": {},
   "outputs": [],
   "source": [
    "import math\n",
    "import numpy as np\n",
    "\n",
    "shuffled = data.iloc[np.random.permutation(len(data))]\n",
    "\n",
    "test = shuffled[:259] \n",
    "train = shuffled[259:]\n",
    "\n",
    "test_y = test[\"Q16\"]\n",
    "train_y = train[\"Q16\"]\n",
    "\n",
    "test_X = test.drop(['Q16'],axis=1).values\n",
    "train_X = train.drop(['Q16'],axis=1).values"
   ]
  },
  {
   "cell_type": "code",
   "execution_count": 8,
   "metadata": {},
   "outputs": [
    {
     "data": {
      "text/plain": [
       "SVC(decision_function_shape='ovo')"
      ]
     },
     "execution_count": 8,
     "metadata": {},
     "output_type": "execute_result"
    }
   ],
   "source": [
    "from sklearn import svm\n",
    "\n",
    "clf = svm.SVC(decision_function_shape='ovo')\n",
    "clf.fit(train_X, train_y)"
   ]
  },
  {
   "cell_type": "code",
   "execution_count": 9,
   "metadata": {},
   "outputs": [],
   "source": [
    "y_pred=clf.predict(test_X)"
   ]
  },
  {
   "cell_type": "code",
   "execution_count": 10,
   "metadata": {},
   "outputs": [
    {
     "name": "stdout",
     "output_type": "stream",
     "text": [
      "Accuracy: 0.3088803088803089\n"
     ]
    }
   ],
   "source": [
    "from sklearn import metrics\n",
    "print(\"Accuracy:\",metrics.accuracy_score(test_y, y_pred))"
   ]
  },
  {
   "cell_type": "code",
   "execution_count": 11,
   "metadata": {},
   "outputs": [
    {
     "name": "stdout",
     "output_type": "stream",
     "text": [
      "[0.35042735 0.34188034 0.32051282 0.35683761 0.33119658]\n",
      "0.34 accuracy with a standard deviation of 0.01\n"
     ]
    }
   ],
   "source": [
    "from sklearn.model_selection import cross_val_score\n",
    "scores = cross_val_score(clf, train_X, train_y, cv=5)\n",
    "print(scores)\n",
    "print(\"%0.2f accuracy with a standard deviation of %0.2f\" % (scores.mean(), scores.std()))"
   ]
  },
  {
   "cell_type": "code",
   "execution_count": 12,
   "metadata": {},
   "outputs": [
    {
     "name": "stdout",
     "output_type": "stream",
     "text": [
      "      1.0   2.0   3.0   4.0   5.0   6.0   7.0   8.0   9.0   10.0\n",
      "1.0     45     0    27     0     0     0     0     0     0     0\n",
      "2.0     15     0    12     0     0     0     0     0     0     0\n",
      "3.0     30     0    35     0     0     0     0     0     0     0\n",
      "4.0      8     0     3     0     0     0     0     0     0     0\n",
      "5.0     10     0     2     0     0     0     0     0     0     0\n",
      "6.0      9     0     1     0     0     0     0     0     0     0\n",
      "7.0     15     0     5     0     0     0     0     0     0     0\n",
      "8.0     11     0     4     0     0     0     0     0     0     0\n",
      "9.0     13     0     6     0     0     0     0     0     0     0\n",
      "10.0     4     0     4     0     0     0     0     0     0     0\n"
     ]
    },
    {
     "data": {
      "image/png": "[encoded data removed]",
      "text/plain": [
       "<Figure size 432x288 with 2 Axes>"
      ]
     },
     "metadata": {
      "needs_background": "light"
     },
     "output_type": "display_data"
    }
   ],
   "source": [
    "from sklearn.metrics import confusion_matrix\n",
    "from sklearn.metrics import plot_confusion_matrix\n",
    "import matplotlib.pyplot as plt\n",
    "\n",
    "conmat = confusion_matrix(test_y, y_pred)\n",
    "val = np.mat(conmat) \n",
    "\n",
    "classnames = list(set(train[\"Q16\"]))\n",
    "\n",
    "df_cm = pd.DataFrame(val, index=classnames, columns=classnames)\n",
    "\n",
    "print(df_cm)\n",
    "\n",
    "plot_confusion_matrix(clf,test_X,test_y)\n",
    "plt.savefig(\"cm_svm.png\")"
   ]
  },
  {
   "cell_type": "markdown",
   "metadata": {},
   "source": [
    "## SVM with balancing the data"
   ]
  },
  {
   "cell_type": "code",
   "execution_count": 13,
   "metadata": {},
   "outputs": [
    {
     "name": "stdout",
     "output_type": "stream",
     "text": [
      "1.0     724\n",
      "3.0     702\n",
      "2.0     246\n",
      "7.0     217\n",
      "8.0     174\n",
      "9.0     139\n",
      "5.0     134\n",
      "4.0     117\n",
      "6.0      76\n",
      "10.0     70\n",
      "Name: Q16, dtype: int64\n"
     ]
    }
   ],
   "source": [
    "print(data[\"Q16\"].value_counts())"
   ]
  },
  {
   "cell_type": "code",
   "execution_count": 14,
   "metadata": {},
   "outputs": [
    {
     "data": {
      "text/plain": [
       "SVC(class_weight='balanced', decision_function_shape='ovo')"
      ]
     },
     "execution_count": 14,
     "metadata": {},
     "output_type": "execute_result"
    }
   ],
   "source": [
    "from sklearn import svm\n",
    "\n",
    "clf_balanced = svm.SVC(decision_function_shape='ovo',class_weight=\"balanced\")\n",
    "clf_balanced.fit(train_X, train_y)"
   ]
  },
  {
   "cell_type": "code",
   "execution_count": 15,
   "metadata": {},
   "outputs": [
    {
     "data": {
      "text/plain": [
       "array([5., 3., 4., 9., 5., 1.])"
      ]
     },
     "execution_count": 15,
     "metadata": {},
     "output_type": "execute_result"
    }
   ],
   "source": [
    "clf_balanced.predict(test_X[:6])"
   ]
  },
  {
   "cell_type": "code",
   "execution_count": 16,
   "metadata": {},
   "outputs": [
    {
     "data": {
      "text/plain": [
       "3328    1.0\n",
       "1176    1.0\n",
       "1331    1.0\n",
       "1608    2.0\n",
       "392     8.0\n",
       "3020    1.0\n",
       "Name: Q16, dtype: float64"
      ]
     },
     "execution_count": 16,
     "metadata": {},
     "output_type": "execute_result"
    }
   ],
   "source": [
    "test_y[:6]"
   ]
  },
  {
   "cell_type": "code",
   "execution_count": 17,
   "metadata": {},
   "outputs": [],
   "source": [
    "y_pred=clf_balanced.predict(test_X)"
   ]
  },
  {
   "cell_type": "code",
   "execution_count": 18,
   "metadata": {},
   "outputs": [
    {
     "name": "stdout",
     "output_type": "stream",
     "text": [
      "Accuracy: 0.2277992277992278\n"
     ]
    }
   ],
   "source": [
    "from sklearn import metrics\n",
    "print(\"Accuracy:\",metrics.accuracy_score(test_y, y_pred))"
   ]
  },
  {
   "cell_type": "code",
   "execution_count": 19,
   "metadata": {},
   "outputs": [
    {
     "name": "stdout",
     "output_type": "stream",
     "text": [
      "[0.21153846 0.18376068 0.18803419 0.19871795 0.17094017]\n",
      "0.19 accuracy with a standard deviation of 0.01\n"
     ]
    }
   ],
   "source": [
    "from sklearn.model_selection import cross_val_score\n",
    "scores = cross_val_score(clf_balanced, train_X, train_y, cv=5)\n",
    "print(scores)\n",
    "print(\"%0.2f accuracy with a standard deviation of %0.2f\" % (scores.mean(), scores.std()))"
   ]
  },
  {
   "cell_type": "code",
   "execution_count": 20,
   "metadata": {},
   "outputs": [
    {
     "name": "stdout",
     "output_type": "stream",
     "text": [
      "      1.0   2.0   3.0   4.0   5.0   6.0   7.0   8.0   9.0   10.0\n",
      "1.0     13     8    10     9    13     5     7     4     3     0\n",
      "2.0      2     7     6     1     1     2     6     0     2     0\n",
      "3.0      8     9    19     8     5     3     6     1     4     2\n",
      "4.0      0     2     2     5     0     0     1     0     0     1\n",
      "5.0      2     0     0     1     3     1     3     0     2     0\n",
      "6.0      0     0     1     1     4     1     1     0     1     1\n",
      "7.0      2     2     3     1     1     1     8     0     1     1\n",
      "8.0      2     2     2     1     3     1     1     1     2     0\n",
      "9.0      1     0     4     3     1     1     5     0     2     2\n",
      "10.0     1     2     2     1     2     0     0     0     0     0\n"
     ]
    },
    {
     "data": {
      "image/png": "[encoded data removed]",
      "text/plain": [
       "<Figure size 432x288 with 2 Axes>"
      ]
     },
     "metadata": {
      "needs_background": "light"
     },
     "output_type": "display_data"
    }
   ],
   "source": [
    "from sklearn.metrics import confusion_matrix\n",
    "from sklearn.metrics import plot_confusion_matrix\n",
    "import matplotlib.pyplot as plt\n",
    "\n",
    "conmat = confusion_matrix(test_y, y_pred)\n",
    "val = np.mat(conmat) \n",
    "\n",
    "classnames = list(set(train[\"Q16\"]))\n",
    "\n",
    "df_cm = pd.DataFrame(val, index=classnames, columns=classnames)\n",
    "\n",
    "print(df_cm)\n",
    "\n",
    "plot_confusion_matrix(clf_balanced,test_X,test_y)\n",
    "plt.savefig(\"cm_svm_balanced.png\")"
   ]
  }
 ],
 "metadata": {
  "kernelspec": {
   "display_name": "Python 3",
   "language": "python",
   "name": "python3"
  },
  "language_info": {
   "codemirror_mode": {
    "name": "ipython",
    "version": 3
   },
   "file_extension": ".py",
   "mimetype": "text/x-python",
   "name": "python",
   "nbconvert_exporter": "python",
   "pygments_lexer": "ipython3",
   "version": "3.8.5"
  }
 },
 "nbformat": 4,
 "nbformat_minor": 4
}
