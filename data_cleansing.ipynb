{
 "cells": [
  {
   "cell_type": "code",
   "execution_count": 1,
   "metadata": {},
   "outputs": [
    {
     "data": {
      "text/plain": [
       "(50851, 266)"
      ]
     },
     "execution_count": 1,
     "metadata": {},
     "output_type": "execute_result"
    }
   ],
   "source": [
    "import pandas as pd\n",
    "\n",
    "data = pd.read_csv(\"NSD2883/NSD2883_no_F2.csv\")\n",
    "data.shape"
   ]
  },
  {
   "cell_type": "code",
   "execution_count": 2,
   "metadata": {},
   "outputs": [
    {
     "data": {
      "text/plain": [
       "array([2019, 2017, 2013, 2010, 2015])"
      ]
     },
     "execution_count": 2,
     "metadata": {},
     "output_type": "execute_result"
    }
   ],
   "source": [
    "data[\"Aar\"].unique()"
   ]
  },
  {
   "cell_type": "code",
   "execution_count": 3,
   "metadata": {},
   "outputs": [
    {
     "data": {
      "text/plain": [
       "(7134, 266)"
      ]
     },
     "execution_count": 3,
     "metadata": {},
     "output_type": "execute_result"
    }
   ],
   "source": [
    "data_2019 = data.loc[data['Aar'] == 2019]\n",
    "data_2019.shape"
   ]
  },
  {
   "cell_type": "code",
   "execution_count": 4,
   "metadata": {},
   "outputs": [
    {
     "name": "stdout",
     "output_type": "stream",
     "text": [
      "['Spraak', 'Q1_natur_kom_1', 'Q1_natur_kom_2', 'Q1_natur_kom_3', 'Q1_kultur_kom_1', 'Q1_kultur_kom_2', 'Q1_kultur_kom_3', 'Q1_kultur_kom_4', 'Q1_kultur_kom_5', 'Q1_kultur_kom_6', 'Q1_kultur_kom_7', 'Q1_arbeid_kom_1', 'Q1_arbeid_kom_2', 'Q1_arbeid_kom_3', 'Q1_samferdsel_kom_1', 'Q1_samferdsel_kom_2', 'Q1_samferdsel_kom_3', 'Q1_samferdsel_kom_4', 'Q1_samferdsel_kom_5', 'Q1_samferdsel_kom_6', 'Q1_renovasjon_kom_1', 'Q1_renovasjon_kom_2', 'Q2_1', 'Q3_1', 'Q3_2', 'Q3_3', 'Q3_4', 'Q3_5', 'Q5_1', 'Q6_1', 'Q7_1', 'Q9_1', 'Q9_2', 'Q9_3', 'Q9_4', 'Q9_5', 'Q9_6', 'Q9_7', 'Q9_8', 'Q9_9', 'Q9_10', 'Q9_11', 'Q10_1', 'Q11_1', 'Q13_1', 'Q14_1', 'Q15_1', 'Q15_2', 'Q15_3', 'Q15_4', 'Q16', 'Q18', 'Q19_1', 'Q19_2', 'Q20a_1', 'Q20a_2', 'Q21a_1', 'Q21a_2', 'Q21a_3', 'Q21a_4', 'Q22a_1', 'Q23a_1', 'Q24a_1', 'Q24a_2', 'Q20b_1', 'Q20b_2', 'Q20b_3', 'Q20b_4', 'Q20b_5', 'Q20b_6', 'Q20b_7', 'Q20b_8', 'Q20b_9', 'Q25a_q21b_1', 'Q25a_q21b_2', 'Q26a_1', 'Q26a_2', 'Q27a_1', 'Q27a_2', 'Q27a_3', 'Q27a_4', 'Q27a_5', 'Q27a_6', 'Q29a_1', 'Q30a_1', 'Q31a_1', 'Q33a_1', 'Q33a_2', 'Q33a_3', 'Q33a_4', 'Q33a_5', 'Q33a_6', 'Q33a_7', 'Q33a_8', 'Q33a_9', 'Q33a_10', 'Q33a_11', 'Q33a_12', 'Q33a_13', 'Q34a_1', 'Q35a_1', 'Q36a_1', 'Q37a', 'Q38a_1', 'Q38a_2', 'Q39a_1', 'Q40a', 'Q41a_1', 'Q41a_2', 'Q41a_3', 'Q41a_4', 'Q41a_5', 'Q41a_6', 'Q35b_1', 'Q35b_2', 'Q35b_3', 'Q35b_4', 'Q35b_5', 'Q42a_1', 'Q43a_1_1', 'Q43a_1_2', 'Q43a_1_3', 'Q43a_1_4', 'Q43a_2_1', 'Q43a_2_2', 'Q43a_2_3', 'Q43a_2_4', 'Q43a_3_1', 'Q43a_3_2', 'Q43a_3_3', 'Q43a_3_4', 'Q43a_4_1', 'Q43a_4_2', 'Q43a_4_3', 'Q43a_4_4', 'Q43a_5_1', 'Q43a_5_2', 'Q43a_5_3', 'Q43a_5_4', 'Q43a_6_1', 'Q43a_6_2', 'Q43a_6_3', 'Q43a_6_4', 'Q43a_7_1', 'Q43a_7_2', 'Q43a_7_3', 'Q43a_7_4', 'Q43a_8_1', 'Q43a_8_2', 'Q43a_8_3', 'Q43a_8_4', 'Q43a_9_1', 'Q43a_9_2', 'Q43a_9_3', 'Q43a_9_4', 'Q43a_10_1', 'Q43a_10_2', 'Q43a_10_3', 'Q43a_10_4', 'Q43a_11_1', 'Q43a_11_2', 'Q43a_11_3', 'Q43a_11_4', 'Q43a_12_1', 'Q43a_12_2', 'Q43a_12_3', 'Q43a_12_4', 'Q43a_13_1', 'Q43a_13_2', 'Q43a_13_3', 'Q43a_13_4', 'Q43a_14_1', 'Q43a_14_2', 'Q43a_14_3', 'Q43a_14_4', 'Q43a_15_1', 'Q43a_15_2', 'Q43a_15_3', 'Q43a_15_4', 'Q43a_16_1', 'Q43a_16_2', 'Q43a_16_3', 'Q43a_16_4', 'Q44a_1_1', 'Q44a_1_2', 'Q44a_1_3', 'Q44a_2_1', 'Q44a_2_2', 'Q44a_2_3', 'Q44a_3_1', 'Q44a_3_2', 'Q44a_3_3', 'Q44a_4_1', 'Q44a_4_2', 'Q44a_4_3', 'Q44a_5_1', 'Q44a_5_2', 'Q44a_5_3', 'Q44a_6_1', 'Q44a_6_2', 'Q44a_6_3', 'Q44a_7_1', 'Q44a_7_2', 'Q44a_7_3', 'Q44a_8_1', 'Q44a_8_2', 'Q44a_8_3', 'Q45a_1_1', 'Q45a_1_2', 'Q45a_1_3', 'Q45a_1_4', 'Q45a_2_1', 'Q45a_2_2', 'Q45a_2_3', 'Q45a_2_4', 'Q46a', 'Q47a', 'Q48a', 'Q52a', 'Q55a_1', 'Q55a_2', 'Q55a_3', 'Q55a_4', 'Q55a_9', 'Q60a', 'Q62a', 'Q64a_1', 'Q64a_2', 'Q64a_3', 'Q64a_4', 'Q64a_5', 'Q64a_6', 'Q64a_7', 'Q64a_8', 'Q64a_9', 'Q65a_1', 'Q65a_2', 'Q65a_3', 'Q65a_4', 'Q65a_5', 'Q65a_6', 'Q65ana', 'Q66a_1', 'Q68a', 'Q69a', 'Q70a', 'Metode', 'Id', 'Utvalgsvekt', 'Popvekt', 'Aar', 'Snittnorge', 'Snittet', 'Alderkat', 'Q56a', 'Q61a', 'Kommunestr', 'Fylke', 'Q49a', 'Sentralitet', 'Q57a', 'Q58a', 'Q63a', 'Q67a', 'Q53a', 'Q54a']\n"
     ]
    }
   ],
   "source": [
    "# See list of all variables\n",
    "print(list(data_2019))"
   ]
  },
  {
   "cell_type": "code",
   "execution_count": 5,
   "metadata": {},
   "outputs": [],
   "source": [
    "# boolean representation of 3 questions from the survey, \n",
    "# that is irrelevant for the problem statement\n",
    "irrelevant_bool_vals = ['Q43a_1_1', 'Q43a_1_2', 'Q43a_1_3', 'Q43a_1_4', 'Q43a_2_1', 'Q43a_2_2',\n",
    "'Q43a_2_3', 'Q43a_2_4', 'Q43a_3_1', 'Q43a_3_2', 'Q43a_3_3', 'Q43a_3_4', 'Q43a_4_1', 'Q43a_4_2',\n",
    "'Q43a_4_3', 'Q43a_4_4', 'Q43a_5_1', 'Q43a_5_2', 'Q43a_5_3', 'Q43a_5_4', 'Q43a_6_1', 'Q43a_6_2',\n",
    "'Q43a_6_3', 'Q43a_6_4', 'Q43a_7_1', 'Q43a_7_2', 'Q43a_7_3', 'Q43a_7_4', 'Q43a_8_1', 'Q43a_8_2',\n",
    "'Q43a_8_3', 'Q43a_8_4', 'Q43a_9_1', 'Q43a_9_2', 'Q43a_9_3', 'Q43a_9_4', 'Q43a_10_1', \n",
    "'Q43a_10_2', 'Q43a_10_3', 'Q43a_10_4', 'Q43a_11_1', 'Q43a_11_2', 'Q43a_11_3', 'Q43a_11_4', \n",
    "'Q43a_12_1', 'Q43a_12_2', 'Q43a_12_3', 'Q43a_12_4', 'Q43a_13_1', 'Q43a_13_2', 'Q43a_13_3', \n",
    "'Q43a_13_4', 'Q43a_14_1', 'Q43a_14_2', 'Q43a_14_3', 'Q43a_14_4', 'Q43a_15_1', 'Q43a_15_2', \n",
    "'Q43a_15_3', 'Q43a_15_4', 'Q43a_16_1', 'Q43a_16_2', 'Q43a_16_3', 'Q43a_16_4', 'Q44a_1_1', \n",
    "'Q44a_1_2', 'Q44a_1_3', 'Q44a_2_1', 'Q44a_2_2', 'Q44a_2_3', 'Q44a_3_1', 'Q44a_3_2', 'Q44a_3_3', \n",
    "'Q44a_4_1', 'Q44a_4_2', 'Q44a_4_3', 'Q44a_5_1', 'Q44a_5_2', 'Q44a_5_3', 'Q44a_6_1', 'Q44a_6_2',\n",
    "'Q44a_6_3', 'Q44a_7_1', 'Q44a_7_2', 'Q44a_7_3', 'Q44a_8_1', 'Q44a_8_2', 'Q44a_8_3', 'Q45a_1_1',\n",
    "'Q45a_1_2', 'Q45a_1_3', 'Q45a_1_4', 'Q45a_2_1', 'Q45a_2_2', 'Q45a_2_3', 'Q45a_2_4']\n",
    "irrelevant_vals = ['Q47a','Q69a','Q70a','Metode', 'Snittnorge', 'Popvekt', 'Utvalgsvekt', 'Snittet']"
   ]
  },
  {
   "cell_type": "code",
   "execution_count": 6,
   "metadata": {},
   "outputs": [
    {
     "name": "stdout",
     "output_type": "stream",
     "text": [
      "Number of variables before: 266\n",
      "Number of variables after: 161\n"
     ]
    }
   ],
   "source": [
    "print(\"Number of variables before: \" + str(data_2019.shape[1]))\n",
    "reduced_data_2019 = data_2019.drop(irrelevant_bool_vals, axis = 1)\n",
    "reduced_data_2019 = reduced_data_2019.drop(irrelevant_vals, axis = 1)\n",
    "reduced_data_2019 = reduced_data_2019.drop('Aar', axis = 1)\n",
    "print(\"Number of variables after: \" + str(reduced_data_2019.shape[1]))"
   ]
  },
  {
   "cell_type": "code",
   "execution_count": 7,
   "metadata": {},
   "outputs": [
    {
     "name": "stdout",
     "output_type": "stream",
     "text": [
      "['Spraak', 'Q1_natur_kom_1', 'Q1_natur_kom_2', 'Q1_natur_kom_3', 'Q1_kultur_kom_1', 'Q1_kultur_kom_2', 'Q1_kultur_kom_3', 'Q1_kultur_kom_4', 'Q1_kultur_kom_5', 'Q1_kultur_kom_6', 'Q1_kultur_kom_7', 'Q1_arbeid_kom_1', 'Q1_arbeid_kom_2', 'Q1_arbeid_kom_3', 'Q1_samferdsel_kom_1', 'Q1_samferdsel_kom_2', 'Q1_samferdsel_kom_3', 'Q1_samferdsel_kom_4', 'Q1_samferdsel_kom_5', 'Q1_samferdsel_kom_6', 'Q1_renovasjon_kom_1', 'Q1_renovasjon_kom_2', 'Q2_1', 'Q3_1', 'Q3_2', 'Q3_3', 'Q3_4', 'Q3_5', 'Q5_1', 'Q6_1', 'Q7_1', 'Q9_1', 'Q9_2', 'Q9_3', 'Q9_4', 'Q9_5', 'Q9_6', 'Q9_7', 'Q9_8', 'Q9_9', 'Q9_10', 'Q9_11', 'Q10_1', 'Q11_1', 'Q13_1', 'Q14_1', 'Q15_1', 'Q15_2', 'Q15_3', 'Q15_4', 'Q16', 'Q18', 'Q19_1', 'Q19_2', 'Q20a_1', 'Q20a_2', 'Q21a_1', 'Q21a_2', 'Q21a_3', 'Q21a_4', 'Q22a_1', 'Q23a_1', 'Q24a_1', 'Q24a_2', 'Q20b_1', 'Q20b_2', 'Q20b_3', 'Q20b_4', 'Q20b_5', 'Q20b_6', 'Q20b_7', 'Q20b_8', 'Q20b_9', 'Q25a_q21b_1', 'Q25a_q21b_2', 'Q26a_1', 'Q26a_2', 'Q27a_1', 'Q27a_2', 'Q27a_3', 'Q27a_4', 'Q27a_5', 'Q27a_6', 'Q29a_1', 'Q30a_1', 'Q31a_1', 'Q33a_1', 'Q33a_2', 'Q33a_3', 'Q33a_4', 'Q33a_5', 'Q33a_6', 'Q33a_7', 'Q33a_8', 'Q33a_9', 'Q33a_10', 'Q33a_11', 'Q33a_12', 'Q33a_13', 'Q34a_1', 'Q35a_1', 'Q36a_1', 'Q37a', 'Q38a_1', 'Q38a_2', 'Q39a_1', 'Q40a', 'Q41a_1', 'Q41a_2', 'Q41a_3', 'Q41a_4', 'Q41a_5', 'Q41a_6', 'Q35b_1', 'Q35b_2', 'Q35b_3', 'Q35b_4', 'Q35b_5', 'Q42a_1', 'Q46a', 'Q48a', 'Q52a', 'Q55a_1', 'Q55a_2', 'Q55a_3', 'Q55a_4', 'Q55a_9', 'Q60a', 'Q62a', 'Q64a_1', 'Q64a_2', 'Q64a_3', 'Q64a_4', 'Q64a_5', 'Q64a_6', 'Q64a_7', 'Q64a_8', 'Q64a_9', 'Q65a_1', 'Q65a_2', 'Q65a_3', 'Q65a_4', 'Q65a_5', 'Q65a_6', 'Q65ana', 'Q66a_1', 'Q68a', 'Id', 'Alderkat', 'Q56a', 'Q61a', 'Kommunestr', 'Fylke', 'Q49a', 'Sentralitet', 'Q57a', 'Q58a', 'Q63a', 'Q67a', 'Q53a', 'Q54a']\n"
     ]
    }
   ],
   "source": [
    "print(list(reduced_data_2019))"
   ]
  },
  {
   "cell_type": "code",
   "execution_count": 8,
   "metadata": {},
   "outputs": [],
   "source": [
    "missing_vals_0 = ['Q64a_1', 'Q64a_2', 'Q64a_3', 'Q64a_4', 'Q64a_5', 'Q64a_6', 'Q64a_7', \n",
    "                  'Q64a_8', 'Q64a_9', 'Q65a_1', 'Q65a_2', 'Q65a_3', 'Q65a_4', 'Q65a_5',\n",
    "                  'Q65a_6', 'Q65ana', 'Q55a_1', 'Q55a_2', 'Q55a_3', 'Q55a_4', 'Q55a_9',\n",
    "                 'Q54a', 'Q53a']\n",
    "#missing_vals_categorical = ['Q60a','Q58a'] CANNOT DO THIS\n",
    "\n",
    "for var0 in missing_vals_0:\n",
    "    reduced_data_2019[var0] = reduced_data_2019[[var0]].fillna(0)\n",
    "\n",
    "#for var in missing_vals_categorical: \n",
    "#    reduced_data_2019[var] = reduced_data_2019[[var]].fillna(0)\n",
    "    \n",
    "reduced_data_2019['Q63a'] = reduced_data_2019[['Q63a']].fillna(5)"
   ]
  },
  {
   "cell_type": "code",
   "execution_count": 9,
   "metadata": {},
   "outputs": [
    {
     "data": {
      "text/plain": [
       "2.0     2694\n",
       "1.0     1774\n",
       "4.0     1073\n",
       "3.0      974\n",
       "5.0      419\n",
       "6.0      108\n",
       "7.0       33\n",
       "11.0      22\n",
       "12.0      16\n",
       "8.0       11\n",
       "9.0        6\n",
       "10.0       4\n",
       "Name: Q53a, dtype: int64"
      ]
     },
     "execution_count": 9,
     "metadata": {},
     "output_type": "execute_result"
    }
   ],
   "source": [
    "# TODO fix Q53a\n",
    "reduced_data_2019[\"Q53a\"].value_counts()\n",
    "#makes no sense that they live 0 people in total there, when it includes the respondee. \n",
    "reduced_data_2019[\"Q53a\"] = reduced_data_2019[\"Q53a\"].replace(0,1)\n",
    "\n",
    "#Should I remove the high values, or should I make them all the same value?\n",
    "reduced_data_2019[\"Q53a\"].where(reduced_data_2019[\"Q53a\"] <= 12, 12, inplace=True)\n",
    "reduced_data_2019[\"Q53a\"].value_counts()"
   ]
  },
  {
   "cell_type": "code",
   "execution_count": null,
   "metadata": {},
   "outputs": [],
   "source": []
  },
  {
   "cell_type": "code",
   "execution_count": 10,
   "metadata": {},
   "outputs": [
    {
     "data": {
      "text/html": [
       "<div>\n",
       "<style scoped>\n",
       "    .dataframe tbody tr th:only-of-type {\n",
       "        vertical-align: middle;\n",
       "    }\n",
       "\n",
       "    .dataframe tbody tr th {\n",
       "        vertical-align: top;\n",
       "    }\n",
       "\n",
       "    .dataframe thead th {\n",
       "        text-align: right;\n",
       "    }\n",
       "</style>\n",
       "<table border=\"1\" class=\"dataframe\">\n",
       "  <thead>\n",
       "    <tr style=\"text-align: right;\">\n",
       "      <th></th>\n",
       "      <th>Spraak</th>\n",
       "      <th>Q1_natur_kom_1</th>\n",
       "      <th>Q1_natur_kom_2</th>\n",
       "      <th>Q1_natur_kom_3</th>\n",
       "      <th>Q1_kultur_kom_1</th>\n",
       "      <th>Q1_kultur_kom_2</th>\n",
       "      <th>Q1_kultur_kom_3</th>\n",
       "      <th>Q1_kultur_kom_4</th>\n",
       "      <th>Q1_kultur_kom_5</th>\n",
       "      <th>Q1_kultur_kom_6</th>\n",
       "      <th>...</th>\n",
       "      <th>Kommunestr</th>\n",
       "      <th>Fylke</th>\n",
       "      <th>Q49a</th>\n",
       "      <th>Sentralitet</th>\n",
       "      <th>Q57a</th>\n",
       "      <th>Q58a</th>\n",
       "      <th>Q63a</th>\n",
       "      <th>Q67a</th>\n",
       "      <th>Q53a</th>\n",
       "      <th>Q54a</th>\n",
       "    </tr>\n",
       "  </thead>\n",
       "  <tbody>\n",
       "    <tr>\n",
       "      <th>0</th>\n",
       "      <td>1.0</td>\n",
       "      <td>4.0</td>\n",
       "      <td>3.0</td>\n",
       "      <td>4.0</td>\n",
       "      <td>6.0</td>\n",
       "      <td>6.0</td>\n",
       "      <td>6.0</td>\n",
       "      <td>6.0</td>\n",
       "      <td>4.0</td>\n",
       "      <td>6.0</td>\n",
       "      <td>...</td>\n",
       "      <td>3.0</td>\n",
       "      <td>18</td>\n",
       "      <td>2.0</td>\n",
       "      <td>3.0</td>\n",
       "      <td>5.0</td>\n",
       "      <td>0.0</td>\n",
       "      <td>4.0</td>\n",
       "      <td>9999.0</td>\n",
       "      <td>4.0</td>\n",
       "      <td>2.0</td>\n",
       "    </tr>\n",
       "    <tr>\n",
       "      <th>1</th>\n",
       "      <td>1.0</td>\n",
       "      <td>7.0</td>\n",
       "      <td>7.0</td>\n",
       "      <td>7.0</td>\n",
       "      <td>6.0</td>\n",
       "      <td>6.0</td>\n",
       "      <td>7.0</td>\n",
       "      <td>6.0</td>\n",
       "      <td>7.0</td>\n",
       "      <td>7.0</td>\n",
       "      <td>...</td>\n",
       "      <td>3.0</td>\n",
       "      <td>7</td>\n",
       "      <td>5.0</td>\n",
       "      <td>4.0</td>\n",
       "      <td>3.0</td>\n",
       "      <td>0.0</td>\n",
       "      <td>3.0</td>\n",
       "      <td>1.0</td>\n",
       "      <td>4.0</td>\n",
       "      <td>1.0</td>\n",
       "    </tr>\n",
       "    <tr>\n",
       "      <th>2</th>\n",
       "      <td>1.0</td>\n",
       "      <td>5.0</td>\n",
       "      <td>3.0</td>\n",
       "      <td>3.0</td>\n",
       "      <td>6.0</td>\n",
       "      <td>4.0</td>\n",
       "      <td>6.0</td>\n",
       "      <td>4.0</td>\n",
       "      <td>5.0</td>\n",
       "      <td>6.0</td>\n",
       "      <td>...</td>\n",
       "      <td>3.0</td>\n",
       "      <td>18</td>\n",
       "      <td>5.0</td>\n",
       "      <td>3.0</td>\n",
       "      <td>3.0</td>\n",
       "      <td>0.0</td>\n",
       "      <td>4.0</td>\n",
       "      <td>2.0</td>\n",
       "      <td>2.0</td>\n",
       "      <td>0.0</td>\n",
       "    </tr>\n",
       "    <tr>\n",
       "      <th>3</th>\n",
       "      <td>1.0</td>\n",
       "      <td>7.0</td>\n",
       "      <td>6.0</td>\n",
       "      <td>6.0</td>\n",
       "      <td>6.0</td>\n",
       "      <td>6.0</td>\n",
       "      <td>4.0</td>\n",
       "      <td>5.0</td>\n",
       "      <td>8.0</td>\n",
       "      <td>6.0</td>\n",
       "      <td>...</td>\n",
       "      <td>3.0</td>\n",
       "      <td>1</td>\n",
       "      <td>5.0</td>\n",
       "      <td>4.0</td>\n",
       "      <td>4.0</td>\n",
       "      <td>0.0</td>\n",
       "      <td>4.0</td>\n",
       "      <td>1.0</td>\n",
       "      <td>2.0</td>\n",
       "      <td>0.0</td>\n",
       "    </tr>\n",
       "    <tr>\n",
       "      <th>4</th>\n",
       "      <td>1.0</td>\n",
       "      <td>6.0</td>\n",
       "      <td>6.0</td>\n",
       "      <td>3.0</td>\n",
       "      <td>3.0</td>\n",
       "      <td>2.0</td>\n",
       "      <td>2.0</td>\n",
       "      <td>2.0</td>\n",
       "      <td>4.0</td>\n",
       "      <td>6.0</td>\n",
       "      <td>...</td>\n",
       "      <td>3.0</td>\n",
       "      <td>6</td>\n",
       "      <td>4.0</td>\n",
       "      <td>4.0</td>\n",
       "      <td>1.0</td>\n",
       "      <td>2.0</td>\n",
       "      <td>3.0</td>\n",
       "      <td>1.0</td>\n",
       "      <td>4.0</td>\n",
       "      <td>2.0</td>\n",
       "    </tr>\n",
       "  </tbody>\n",
       "</table>\n",
       "<p>5 rows × 161 columns</p>\n",
       "</div>"
      ],
      "text/plain": [
       "   Spraak  Q1_natur_kom_1  Q1_natur_kom_2  Q1_natur_kom_3  Q1_kultur_kom_1  \\\n",
       "0     1.0             4.0             3.0             4.0              6.0   \n",
       "1     1.0             7.0             7.0             7.0              6.0   \n",
       "2     1.0             5.0             3.0             3.0              6.0   \n",
       "3     1.0             7.0             6.0             6.0              6.0   \n",
       "4     1.0             6.0             6.0             3.0              3.0   \n",
       "\n",
       "   Q1_kultur_kom_2  Q1_kultur_kom_3  Q1_kultur_kom_4  Q1_kultur_kom_5  \\\n",
       "0              6.0              6.0              6.0              4.0   \n",
       "1              6.0              7.0              6.0              7.0   \n",
       "2              4.0              6.0              4.0              5.0   \n",
       "3              6.0              4.0              5.0              8.0   \n",
       "4              2.0              2.0              2.0              4.0   \n",
       "\n",
       "   Q1_kultur_kom_6  ...  Kommunestr  Fylke  Q49a  Sentralitet  Q57a  Q58a  \\\n",
       "0              6.0  ...         3.0     18   2.0          3.0   5.0   0.0   \n",
       "1              7.0  ...         3.0      7   5.0          4.0   3.0   0.0   \n",
       "2              6.0  ...         3.0     18   5.0          3.0   3.0   0.0   \n",
       "3              6.0  ...         3.0      1   5.0          4.0   4.0   0.0   \n",
       "4              6.0  ...         3.0      6   4.0          4.0   1.0   2.0   \n",
       "\n",
       "   Q63a    Q67a  Q53a  Q54a  \n",
       "0   4.0  9999.0   4.0   2.0  \n",
       "1   3.0     1.0   4.0   1.0  \n",
       "2   4.0     2.0   2.0   0.0  \n",
       "3   4.0     1.0   2.0   0.0  \n",
       "4   3.0     1.0   4.0   2.0  \n",
       "\n",
       "[5 rows x 161 columns]"
      ]
     },
     "execution_count": 10,
     "metadata": {},
     "output_type": "execute_result"
    }
   ],
   "source": [
    "#Make two copies of the df so I can separate the data into \"kommune\" and \"storting\" \n",
    "#for the two parts of the people(rows) that participated in each part of the survey\n",
    "kommune = reduced_data_2019[reduced_data_2019[\"Q16\"].notna()]\n",
    "kommune.head()"
   ]
  },
  {
   "cell_type": "code",
   "execution_count": 11,
   "metadata": {},
   "outputs": [
    {
     "data": {
      "text/plain": [
       "(3708, 161)"
      ]
     },
     "execution_count": 11,
     "metadata": {},
     "output_type": "execute_result"
    }
   ],
   "source": [
    "kommune.shape"
   ]
  },
  {
   "cell_type": "code",
   "execution_count": 12,
   "metadata": {},
   "outputs": [
    {
     "data": {
      "text/plain": [
       "1.0     757\n",
       "3.0     725\n",
       "14.0    349\n",
       "12.0    308\n",
       "2.0     259\n",
       "7.0     227\n",
       "13.0    197\n",
       "8.0     181\n",
       "11.0    149\n",
       "9.0     144\n",
       "5.0     138\n",
       "4.0     122\n",
       "6.0      76\n",
       "10.0     76\n",
       "Name: Q16, dtype: int64"
      ]
     },
     "execution_count": 12,
     "metadata": {},
     "output_type": "execute_result"
    }
   ],
   "source": [
    "#double checking that all rows that are left had answered the kommune election question\n",
    "kommune[\"Q16\"].value_counts()"
   ]
  },
  {
   "cell_type": "code",
   "execution_count": 13,
   "metadata": {},
   "outputs": [
    {
     "data": {
      "text/html": [
       "<div>\n",
       "<style scoped>\n",
       "    .dataframe tbody tr th:only-of-type {\n",
       "        vertical-align: middle;\n",
       "    }\n",
       "\n",
       "    .dataframe tbody tr th {\n",
       "        vertical-align: top;\n",
       "    }\n",
       "\n",
       "    .dataframe thead th {\n",
       "        text-align: right;\n",
       "    }\n",
       "</style>\n",
       "<table border=\"1\" class=\"dataframe\">\n",
       "  <thead>\n",
       "    <tr style=\"text-align: right;\">\n",
       "      <th></th>\n",
       "      <th>Spraak</th>\n",
       "      <th>Q1_natur_kom_1</th>\n",
       "      <th>Q1_natur_kom_2</th>\n",
       "      <th>Q1_natur_kom_3</th>\n",
       "      <th>Q1_kultur_kom_1</th>\n",
       "      <th>Q1_kultur_kom_2</th>\n",
       "      <th>Q1_kultur_kom_3</th>\n",
       "      <th>Q1_kultur_kom_4</th>\n",
       "      <th>Q1_kultur_kom_5</th>\n",
       "      <th>Q1_kultur_kom_6</th>\n",
       "      <th>...</th>\n",
       "      <th>Kommunestr</th>\n",
       "      <th>Fylke</th>\n",
       "      <th>Q49a</th>\n",
       "      <th>Sentralitet</th>\n",
       "      <th>Q57a</th>\n",
       "      <th>Q58a</th>\n",
       "      <th>Q63a</th>\n",
       "      <th>Q67a</th>\n",
       "      <th>Q53a</th>\n",
       "      <th>Q54a</th>\n",
       "    </tr>\n",
       "  </thead>\n",
       "  <tbody>\n",
       "    <tr>\n",
       "      <th>3701</th>\n",
       "      <td>1.0</td>\n",
       "      <td>NaN</td>\n",
       "      <td>NaN</td>\n",
       "      <td>NaN</td>\n",
       "      <td>NaN</td>\n",
       "      <td>NaN</td>\n",
       "      <td>NaN</td>\n",
       "      <td>NaN</td>\n",
       "      <td>NaN</td>\n",
       "      <td>NaN</td>\n",
       "      <td>...</td>\n",
       "      <td>1.0</td>\n",
       "      <td>20</td>\n",
       "      <td>NaN</td>\n",
       "      <td>1.0</td>\n",
       "      <td>NaN</td>\n",
       "      <td>0.0</td>\n",
       "      <td>5.0</td>\n",
       "      <td>NaN</td>\n",
       "      <td>1.0</td>\n",
       "      <td>0.0</td>\n",
       "    </tr>\n",
       "    <tr>\n",
       "      <th>3702</th>\n",
       "      <td>1.0</td>\n",
       "      <td>NaN</td>\n",
       "      <td>NaN</td>\n",
       "      <td>NaN</td>\n",
       "      <td>NaN</td>\n",
       "      <td>NaN</td>\n",
       "      <td>NaN</td>\n",
       "      <td>NaN</td>\n",
       "      <td>NaN</td>\n",
       "      <td>NaN</td>\n",
       "      <td>...</td>\n",
       "      <td>4.0</td>\n",
       "      <td>3</td>\n",
       "      <td>1.0</td>\n",
       "      <td>4.0</td>\n",
       "      <td>3.0</td>\n",
       "      <td>0.0</td>\n",
       "      <td>3.0</td>\n",
       "      <td>1.0</td>\n",
       "      <td>1.0</td>\n",
       "      <td>0.0</td>\n",
       "    </tr>\n",
       "    <tr>\n",
       "      <th>3703</th>\n",
       "      <td>1.0</td>\n",
       "      <td>NaN</td>\n",
       "      <td>NaN</td>\n",
       "      <td>NaN</td>\n",
       "      <td>NaN</td>\n",
       "      <td>NaN</td>\n",
       "      <td>NaN</td>\n",
       "      <td>NaN</td>\n",
       "      <td>NaN</td>\n",
       "      <td>NaN</td>\n",
       "      <td>...</td>\n",
       "      <td>3.0</td>\n",
       "      <td>20</td>\n",
       "      <td>5.0</td>\n",
       "      <td>2.0</td>\n",
       "      <td>4.0</td>\n",
       "      <td>0.0</td>\n",
       "      <td>2.0</td>\n",
       "      <td>1.0</td>\n",
       "      <td>1.0</td>\n",
       "      <td>0.0</td>\n",
       "    </tr>\n",
       "    <tr>\n",
       "      <th>3704</th>\n",
       "      <td>1.0</td>\n",
       "      <td>NaN</td>\n",
       "      <td>NaN</td>\n",
       "      <td>NaN</td>\n",
       "      <td>NaN</td>\n",
       "      <td>NaN</td>\n",
       "      <td>NaN</td>\n",
       "      <td>NaN</td>\n",
       "      <td>NaN</td>\n",
       "      <td>NaN</td>\n",
       "      <td>...</td>\n",
       "      <td>4.0</td>\n",
       "      <td>3</td>\n",
       "      <td>5.0</td>\n",
       "      <td>4.0</td>\n",
       "      <td>4.0</td>\n",
       "      <td>0.0</td>\n",
       "      <td>3.0</td>\n",
       "      <td>9999.0</td>\n",
       "      <td>1.0</td>\n",
       "      <td>0.0</td>\n",
       "    </tr>\n",
       "    <tr>\n",
       "      <th>3705</th>\n",
       "      <td>1.0</td>\n",
       "      <td>NaN</td>\n",
       "      <td>NaN</td>\n",
       "      <td>NaN</td>\n",
       "      <td>NaN</td>\n",
       "      <td>NaN</td>\n",
       "      <td>NaN</td>\n",
       "      <td>NaN</td>\n",
       "      <td>NaN</td>\n",
       "      <td>NaN</td>\n",
       "      <td>...</td>\n",
       "      <td>1.0</td>\n",
       "      <td>5</td>\n",
       "      <td>5.0</td>\n",
       "      <td>1.0</td>\n",
       "      <td>1.0</td>\n",
       "      <td>1.0</td>\n",
       "      <td>4.0</td>\n",
       "      <td>1.0</td>\n",
       "      <td>2.0</td>\n",
       "      <td>0.0</td>\n",
       "    </tr>\n",
       "  </tbody>\n",
       "</table>\n",
       "<p>5 rows × 161 columns</p>\n",
       "</div>"
      ],
      "text/plain": [
       "      Spraak  Q1_natur_kom_1  Q1_natur_kom_2  Q1_natur_kom_3  Q1_kultur_kom_1  \\\n",
       "3701     1.0             NaN             NaN             NaN              NaN   \n",
       "3702     1.0             NaN             NaN             NaN              NaN   \n",
       "3703     1.0             NaN             NaN             NaN              NaN   \n",
       "3704     1.0             NaN             NaN             NaN              NaN   \n",
       "3705     1.0             NaN             NaN             NaN              NaN   \n",
       "\n",
       "      Q1_kultur_kom_2  Q1_kultur_kom_3  Q1_kultur_kom_4  Q1_kultur_kom_5  \\\n",
       "3701              NaN              NaN              NaN              NaN   \n",
       "3702              NaN              NaN              NaN              NaN   \n",
       "3703              NaN              NaN              NaN              NaN   \n",
       "3704              NaN              NaN              NaN              NaN   \n",
       "3705              NaN              NaN              NaN              NaN   \n",
       "\n",
       "      Q1_kultur_kom_6  ...  Kommunestr  Fylke  Q49a  Sentralitet  Q57a  Q58a  \\\n",
       "3701              NaN  ...         1.0     20   NaN          1.0   NaN   0.0   \n",
       "3702              NaN  ...         4.0      3   1.0          4.0   3.0   0.0   \n",
       "3703              NaN  ...         3.0     20   5.0          2.0   4.0   0.0   \n",
       "3704              NaN  ...         4.0      3   5.0          4.0   4.0   0.0   \n",
       "3705              NaN  ...         1.0      5   5.0          1.0   1.0   1.0   \n",
       "\n",
       "      Q63a    Q67a  Q53a  Q54a  \n",
       "3701   5.0     NaN   1.0   0.0  \n",
       "3702   3.0     1.0   1.0   0.0  \n",
       "3703   2.0     1.0   1.0   0.0  \n",
       "3704   3.0  9999.0   1.0   0.0  \n",
       "3705   4.0     1.0   2.0   0.0  \n",
       "\n",
       "[5 rows x 161 columns]"
      ]
     },
     "execution_count": 13,
     "metadata": {},
     "output_type": "execute_result"
    }
   ],
   "source": [
    "storting = reduced_data_2019[reduced_data_2019[\"Q40a\"].notna()]\n",
    "storting.head()"
   ]
  },
  {
   "cell_type": "code",
   "execution_count": 14,
   "metadata": {},
   "outputs": [
    {
     "data": {
      "text/plain": [
       "(3235, 161)"
      ]
     },
     "execution_count": 14,
     "metadata": {},
     "output_type": "execute_result"
    }
   ],
   "source": [
    "storting.shape"
   ]
  },
  {
   "cell_type": "code",
   "execution_count": 15,
   "metadata": {},
   "outputs": [
    {
     "data": {
      "text/plain": [
       "1.0     696\n",
       "3.0     663\n",
       "14.0    289\n",
       "2.0     287\n",
       "12.0    243\n",
       "7.0     204\n",
       "8.0     189\n",
       "9.0     130\n",
       "13.0    110\n",
       "6.0     105\n",
       "5.0     105\n",
       "4.0     104\n",
       "11.0     69\n",
       "10.0     41\n",
       "Name: Q40a, dtype: int64"
      ]
     },
     "execution_count": 15,
     "metadata": {},
     "output_type": "execute_result"
    }
   ],
   "source": [
    "#double checking that all rows that are left had answered the storting election question\n",
    "storting[\"Q40a\"].value_counts()"
   ]
  },
  {
   "cell_type": "code",
   "execution_count": 16,
   "metadata": {},
   "outputs": [
    {
     "name": "stdout",
     "output_type": "stream",
     "text": [
      "['Q1_natur_kom_1', 'Q1_natur_kom_2', 'Q1_natur_kom_3', 'Q1_kultur_kom_1', 'Q1_kultur_kom_2', 'Q1_kultur_kom_3', 'Q1_kultur_kom_4', 'Q1_kultur_kom_5', 'Q1_kultur_kom_6', 'Q1_kultur_kom_7', 'Q1_arbeid_kom_1', 'Q1_arbeid_kom_2', 'Q1_arbeid_kom_3', 'Q1_samferdsel_kom_1', 'Q1_samferdsel_kom_2', 'Q1_samferdsel_kom_3', 'Q1_samferdsel_kom_4', 'Q1_samferdsel_kom_5', 'Q1_samferdsel_kom_6', 'Q1_renovasjon_kom_1', 'Q1_renovasjon_kom_2', 'Q2_1', 'Q3_1', 'Q3_2', 'Q3_3', 'Q3_4', 'Q3_5', 'Q5_1', 'Q6_1', 'Q7_1', 'Q9_1', 'Q9_2', 'Q9_3', 'Q9_4', 'Q9_5', 'Q9_6', 'Q9_7', 'Q9_8', 'Q9_9', 'Q9_10', 'Q9_11', 'Q10_1', 'Q11_1', 'Q13_1', 'Q14_1', 'Q15_1', 'Q15_2', 'Q15_3', 'Q15_4', 'Q16', 'Q18', 'Q19_1', 'Q19_2']\n"
     ]
    }
   ],
   "source": [
    "all_var = list(kommune)\n",
    "kommune_var = all_var[1:54] \n",
    "#Kommune-speific variables. Will remove all these for \"storting\" df\n",
    "print(kommune_var)"
   ]
  },
  {
   "cell_type": "code",
   "execution_count": 17,
   "metadata": {},
   "outputs": [
    {
     "name": "stdout",
     "output_type": "stream",
     "text": [
      "['Q20a_1', 'Q20a_2', 'Q21a_1', 'Q21a_2', 'Q21a_3', 'Q21a_4', 'Q22a_1', 'Q23a_1', 'Q24a_1', 'Q24a_2', 'Q20b_1', 'Q20b_2', 'Q20b_3', 'Q20b_4', 'Q20b_5', 'Q20b_6', 'Q20b_7', 'Q20b_8', 'Q20b_9', 'Q25a_q21b_1', 'Q25a_q21b_2', 'Q26a_1', 'Q26a_2', 'Q27a_1', 'Q27a_2', 'Q27a_3', 'Q27a_4', 'Q27a_5', 'Q27a_6', 'Q29a_1', 'Q30a_1', 'Q31a_1', 'Q33a_1', 'Q33a_2', 'Q33a_3', 'Q33a_4', 'Q33a_5', 'Q33a_6', 'Q33a_7', 'Q33a_8', 'Q33a_9', 'Q33a_10', 'Q33a_11', 'Q33a_12', 'Q33a_13', 'Q34a_1', 'Q35a_1', 'Q36a_1', 'Q37a', 'Q38a_1', 'Q38a_2', 'Q39a_1', 'Q40a', 'Q41a_1', 'Q41a_2', 'Q41a_3', 'Q41a_4', 'Q41a_5', 'Q41a_6', 'Q35b_1', 'Q35b_2', 'Q35b_3', 'Q35b_4', 'Q35b_5', 'Q42a_1']\n"
     ]
    }
   ],
   "source": [
    "storting_var = all_var[54:119]\n",
    "#Storting-speific variables. Will remove all these for \"kommune\" df\n",
    "print(storting_var)"
   ]
  },
  {
   "cell_type": "code",
   "execution_count": 18,
   "metadata": {},
   "outputs": [
    {
     "name": "stdout",
     "output_type": "stream",
     "text": [
      "(3708, 161)\n",
      "(3708, 96)\n"
     ]
    }
   ],
   "source": [
    "print(kommune.shape)\n",
    "kommune = kommune.drop(storting_var, axis = 1)\n",
    "print(kommune.shape)"
   ]
  },
  {
   "cell_type": "code",
   "execution_count": 19,
   "metadata": {},
   "outputs": [
    {
     "name": "stdout",
     "output_type": "stream",
     "text": [
      "(3235, 161)\n",
      "(3235, 108)\n"
     ]
    }
   ],
   "source": [
    "print(storting.shape)\n",
    "storting = storting.drop(kommune_var, axis = 1)\n",
    "print(storting.shape)"
   ]
  },
  {
   "cell_type": "code",
   "execution_count": 20,
   "metadata": {},
   "outputs": [],
   "source": [
    "kommune.to_csv(\"kommune.csv\")\n",
    "storting.to_csv(\"storting.csv\")"
   ]
  },
  {
   "cell_type": "code",
   "execution_count": null,
   "metadata": {},
   "outputs": [],
   "source": []
  }
 ],
 "metadata": {
  "kernelspec": {
   "display_name": "Python 3",
   "language": "python",
   "name": "python3"
  },
  "language_info": {
   "codemirror_mode": {
    "name": "ipython",
    "version": 3
   },
   "file_extension": ".py",
   "mimetype": "text/x-python",
   "name": "python",
   "nbconvert_exporter": "python",
   "pygments_lexer": "ipython3",
   "version": "3.8.5"
  }
 },
 "nbformat": 4,
 "nbformat_minor": 4
}
