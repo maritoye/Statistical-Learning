{
 "cells": [
  {
   "cell_type": "markdown",
   "metadata": {},
   "source": [
    "# Random forest classifier"
   ]
  },
  {
   "cell_type": "markdown",
   "metadata": {},
   "source": [
    "Used this tutorial:\n",
    "https://www.datacamp.com/community/tutorials/random-forests-classifier-python#building"
   ]
  },
  {
   "cell_type": "code",
   "execution_count": 1,
   "metadata": {},
   "outputs": [
    {
     "data": {
      "text/html": [
       "<div>\n",
       "<style scoped>\n",
       "    .dataframe tbody tr th:only-of-type {\n",
       "        vertical-align: middle;\n",
       "    }\n",
       "\n",
       "    .dataframe tbody tr th {\n",
       "        vertical-align: top;\n",
       "    }\n",
       "\n",
       "    .dataframe thead th {\n",
       "        text-align: right;\n",
       "    }\n",
       "</style>\n",
       "<table border=\"1\" class=\"dataframe\">\n",
       "  <thead>\n",
       "    <tr style=\"text-align: right;\">\n",
       "      <th></th>\n",
       "      <th>Unnamed: 0</th>\n",
       "      <th>Spraak</th>\n",
       "      <th>Q1_natur_kom_1</th>\n",
       "      <th>Q1_natur_kom_2</th>\n",
       "      <th>Q1_natur_kom_3</th>\n",
       "      <th>Q1_kultur_kom_1</th>\n",
       "      <th>Q1_kultur_kom_2</th>\n",
       "      <th>Q1_kultur_kom_3</th>\n",
       "      <th>Q1_kultur_kom_4</th>\n",
       "      <th>Q1_kultur_kom_5</th>\n",
       "      <th>...</th>\n",
       "      <th>Kommunestr</th>\n",
       "      <th>Fylke</th>\n",
       "      <th>Q49a</th>\n",
       "      <th>Sentralitet</th>\n",
       "      <th>Q57a</th>\n",
       "      <th>Q58a</th>\n",
       "      <th>Q63a</th>\n",
       "      <th>Q67a</th>\n",
       "      <th>Q53a</th>\n",
       "      <th>Q54a</th>\n",
       "    </tr>\n",
       "  </thead>\n",
       "  <tbody>\n",
       "    <tr>\n",
       "      <th>0</th>\n",
       "      <td>0</td>\n",
       "      <td>1.0</td>\n",
       "      <td>4.0</td>\n",
       "      <td>3.0</td>\n",
       "      <td>4.0</td>\n",
       "      <td>6.0</td>\n",
       "      <td>6.0</td>\n",
       "      <td>6.0</td>\n",
       "      <td>6.0</td>\n",
       "      <td>4.000000</td>\n",
       "      <td>...</td>\n",
       "      <td>3.0</td>\n",
       "      <td>18</td>\n",
       "      <td>2.0</td>\n",
       "      <td>3.0</td>\n",
       "      <td>5.0</td>\n",
       "      <td>0.0</td>\n",
       "      <td>4.0</td>\n",
       "      <td>9999.0</td>\n",
       "      <td>4.0</td>\n",
       "      <td>2.0</td>\n",
       "    </tr>\n",
       "    <tr>\n",
       "      <th>1</th>\n",
       "      <td>1</td>\n",
       "      <td>1.0</td>\n",
       "      <td>5.0</td>\n",
       "      <td>3.0</td>\n",
       "      <td>3.0</td>\n",
       "      <td>6.0</td>\n",
       "      <td>4.0</td>\n",
       "      <td>6.0</td>\n",
       "      <td>4.0</td>\n",
       "      <td>5.000000</td>\n",
       "      <td>...</td>\n",
       "      <td>3.0</td>\n",
       "      <td>18</td>\n",
       "      <td>5.0</td>\n",
       "      <td>3.0</td>\n",
       "      <td>3.0</td>\n",
       "      <td>0.0</td>\n",
       "      <td>4.0</td>\n",
       "      <td>2.0</td>\n",
       "      <td>2.0</td>\n",
       "      <td>0.0</td>\n",
       "    </tr>\n",
       "    <tr>\n",
       "      <th>2</th>\n",
       "      <td>2</td>\n",
       "      <td>1.0</td>\n",
       "      <td>7.0</td>\n",
       "      <td>6.0</td>\n",
       "      <td>6.0</td>\n",
       "      <td>6.0</td>\n",
       "      <td>6.0</td>\n",
       "      <td>4.0</td>\n",
       "      <td>5.0</td>\n",
       "      <td>6.011713</td>\n",
       "      <td>...</td>\n",
       "      <td>3.0</td>\n",
       "      <td>1</td>\n",
       "      <td>5.0</td>\n",
       "      <td>4.0</td>\n",
       "      <td>4.0</td>\n",
       "      <td>0.0</td>\n",
       "      <td>4.0</td>\n",
       "      <td>1.0</td>\n",
       "      <td>2.0</td>\n",
       "      <td>0.0</td>\n",
       "    </tr>\n",
       "    <tr>\n",
       "      <th>3</th>\n",
       "      <td>3</td>\n",
       "      <td>1.0</td>\n",
       "      <td>6.0</td>\n",
       "      <td>6.0</td>\n",
       "      <td>3.0</td>\n",
       "      <td>3.0</td>\n",
       "      <td>2.0</td>\n",
       "      <td>2.0</td>\n",
       "      <td>2.0</td>\n",
       "      <td>4.000000</td>\n",
       "      <td>...</td>\n",
       "      <td>3.0</td>\n",
       "      <td>6</td>\n",
       "      <td>4.0</td>\n",
       "      <td>4.0</td>\n",
       "      <td>1.0</td>\n",
       "      <td>2.0</td>\n",
       "      <td>3.0</td>\n",
       "      <td>1.0</td>\n",
       "      <td>4.0</td>\n",
       "      <td>2.0</td>\n",
       "    </tr>\n",
       "    <tr>\n",
       "      <th>4</th>\n",
       "      <td>4</td>\n",
       "      <td>1.0</td>\n",
       "      <td>4.0</td>\n",
       "      <td>7.0</td>\n",
       "      <td>6.0</td>\n",
       "      <td>5.0</td>\n",
       "      <td>5.0</td>\n",
       "      <td>5.0</td>\n",
       "      <td>1.0</td>\n",
       "      <td>6.000000</td>\n",
       "      <td>...</td>\n",
       "      <td>1.0</td>\n",
       "      <td>18</td>\n",
       "      <td>NaN</td>\n",
       "      <td>2.0</td>\n",
       "      <td>1.0</td>\n",
       "      <td>2.0</td>\n",
       "      <td>4.0</td>\n",
       "      <td>NaN</td>\n",
       "      <td>5.0</td>\n",
       "      <td>2.0</td>\n",
       "    </tr>\n",
       "  </tbody>\n",
       "</table>\n",
       "<p>5 rows × 97 columns</p>\n",
       "</div>"
      ],
      "text/plain": [
       "   Unnamed: 0  Spraak  Q1_natur_kom_1  Q1_natur_kom_2  Q1_natur_kom_3  \\\n",
       "0           0     1.0             4.0             3.0             4.0   \n",
       "1           1     1.0             5.0             3.0             3.0   \n",
       "2           2     1.0             7.0             6.0             6.0   \n",
       "3           3     1.0             6.0             6.0             3.0   \n",
       "4           4     1.0             4.0             7.0             6.0   \n",
       "\n",
       "   Q1_kultur_kom_1  Q1_kultur_kom_2  Q1_kultur_kom_3  Q1_kultur_kom_4  \\\n",
       "0              6.0              6.0              6.0              6.0   \n",
       "1              6.0              4.0              6.0              4.0   \n",
       "2              6.0              6.0              4.0              5.0   \n",
       "3              3.0              2.0              2.0              2.0   \n",
       "4              5.0              5.0              5.0              1.0   \n",
       "\n",
       "   Q1_kultur_kom_5  ...  Kommunestr  Fylke  Q49a  Sentralitet  Q57a  Q58a  \\\n",
       "0         4.000000  ...         3.0     18   2.0          3.0   5.0   0.0   \n",
       "1         5.000000  ...         3.0     18   5.0          3.0   3.0   0.0   \n",
       "2         6.011713  ...         3.0      1   5.0          4.0   4.0   0.0   \n",
       "3         4.000000  ...         3.0      6   4.0          4.0   1.0   2.0   \n",
       "4         6.000000  ...         1.0     18   NaN          2.0   1.0   2.0   \n",
       "\n",
       "   Q63a    Q67a  Q53a  Q54a  \n",
       "0   4.0  9999.0   4.0   2.0  \n",
       "1   4.0     2.0   2.0   0.0  \n",
       "2   4.0     1.0   2.0   0.0  \n",
       "3   3.0     1.0   4.0   2.0  \n",
       "4   4.0     NaN   5.0   2.0  \n",
       "\n",
       "[5 rows x 97 columns]"
      ]
     },
     "execution_count": 1,
     "metadata": {},
     "output_type": "execute_result"
    }
   ],
   "source": [
    "import pandas as pd\n",
    "\n",
    "data = pd.read_csv(\"kommune_multivariate.csv\")\n",
    "data.head()"
   ]
  },
  {
   "cell_type": "code",
   "execution_count": 2,
   "metadata": {},
   "outputs": [
    {
     "data": {
      "text/plain": [
       "(3359, 97)"
      ]
     },
     "execution_count": 2,
     "metadata": {},
     "output_type": "execute_result"
    }
   ],
   "source": [
    "data.shape"
   ]
  },
  {
   "cell_type": "code",
   "execution_count": 3,
   "metadata": {},
   "outputs": [],
   "source": [
    "data = data.drop(['Unnamed: 0'],axis=1)\n",
    "data = data.drop(['Id'],axis=1)"
   ]
  },
  {
   "cell_type": "code",
   "execution_count": 4,
   "metadata": {},
   "outputs": [
    {
     "name": "stdout",
     "output_type": "stream",
     "text": [
      "(3359, 95)\n",
      "(2966, 95)\n"
     ]
    }
   ],
   "source": [
    "print(data.shape)\n",
    "data = data.dropna() \n",
    "print(data.shape)"
   ]
  },
  {
   "cell_type": "code",
   "execution_count": 5,
   "metadata": {},
   "outputs": [],
   "source": [
    "data = data[data.Q16 != 11.0]\n",
    "data = data[data.Q16 != 12.0]\n",
    "data = data[data.Q16 != 13.0]"
   ]
  },
  {
   "cell_type": "code",
   "execution_count": 6,
   "metadata": {},
   "outputs": [],
   "source": [
    "import math\n",
    "import numpy as np\n",
    "\n",
    "shuffled = data.iloc[np.random.permutation(len(data))]\n",
    "\n",
    "test = shuffled[:280] \n",
    "train = shuffled[280:]\n",
    "\n",
    "test_y = test[\"Q16\"]\n",
    "train_y = train[\"Q16\"]\n",
    "\n",
    "test_X = test.drop(['Q16'],axis=1).values\n",
    "train_X = train.drop(['Q16'],axis=1).values"
   ]
  },
  {
   "cell_type": "markdown",
   "metadata": {},
   "source": [
    "### Create random forest classifier"
   ]
  },
  {
   "cell_type": "code",
   "execution_count": 7,
   "metadata": {},
   "outputs": [],
   "source": [
    "from sklearn.ensemble import RandomForestClassifier\n",
    "\n",
    "#Create a Gaussian Classifier\n",
    "clf=RandomForestClassifier(n_estimators=5000)\n",
    "\n",
    "#Train the model using the training sets y_pred=clf.predict(X_test)\n",
    "clf.fit(train_X,train_y)\n",
    "\n",
    "y_pred=clf.predict(test_X)"
   ]
  },
  {
   "cell_type": "markdown",
   "metadata": {},
   "source": [
    "### Calculate accuracy"
   ]
  },
  {
   "cell_type": "code",
   "execution_count": 8,
   "metadata": {},
   "outputs": [
    {
     "name": "stdout",
     "output_type": "stream",
     "text": [
      "Accuracy: 0.3357142857142857\n"
     ]
    }
   ],
   "source": [
    "from sklearn import metrics\n",
    "# Model Accuracy, how often is the classifier correct?\n",
    "print(\"Accuracy:\",metrics.accuracy_score(test_y, y_pred))"
   ]
  },
  {
   "cell_type": "code",
   "execution_count": 9,
   "metadata": {},
   "outputs": [
    {
     "name": "stdout",
     "output_type": "stream",
     "text": [
      "[3. 3. 3. 3. 3. 1. 3. 1. 1. 1.]\n",
      "623     1.0\n",
      "373     7.0\n",
      "3256    2.0\n",
      "3249    5.0\n",
      "1419    8.0\n",
      "1017    6.0\n",
      "2589    5.0\n",
      "2390    3.0\n",
      "2850    7.0\n",
      "2575    2.0\n",
      "Name: Q16, dtype: float64\n"
     ]
    }
   ],
   "source": [
    "print(clf.predict(test_X[:10]))\n",
    "print(test_y[:10])"
   ]
  },
  {
   "cell_type": "markdown",
   "metadata": {},
   "source": [
    "### Calculate feature importance"
   ]
  },
  {
   "cell_type": "code",
   "execution_count": 27,
   "metadata": {},
   "outputs": [
    {
     "name": "stdout",
     "output_type": "stream",
     "text": [
      "1.5718355950646563e-05\tQ65a_4\n",
      "0.00022311277567111428\tQ65ana\n",
      "0.0007998336424147996\tQ68a\n",
      "0.0014129676696754982\tQ65a_2\n",
      "0.0015945362641207792\tQ65a_3\n",
      "0.0021472131560696635\tQ65a_1\n",
      "0.0023576355831698157\tQ55a_1\n",
      "0.0025494617149522977\tQ55a_2\n",
      "0.0028945167484811596\tQ64a_5\n",
      "0.002911575217908385\tQ64a_3\n",
      "0.0029364835596142383\tQ65a_5\n",
      "0.0029412000876690627\tQ55a_4\n",
      "0.0030018954456698626\tQ55a_9\n",
      "0.003186842867800207\tQ62a\n",
      "0.003263514119119598\tQ55a_3\n",
      "0.0036861849048329025\tSpraak\n",
      "0.003700325628506176\tQ64a_1\n",
      "0.00431381631319598\tQ46a\n",
      "0.004367910683415594\tQ65a_6\n",
      "0.004530457361427849\tQ48a\n",
      "0.004749022814797858\tQ64a_2\n",
      "0.004848951926313972\tQ64a_9\n",
      "0.005203458172111436\tQ64a_7\n",
      "0.005316552551818347\tQ64a_6\n",
      "0.005860282721652163\tQ67a\n",
      "0.005960076531150653\tQ18\n",
      "0.006072440280135743\tQ15_4\n",
      "0.006164816278257719\tQ15_1\n",
      "0.006323346456521265\tQ64a_8\n",
      "0.006580704088463035\tQ15_2\n",
      "0.0067212902851968934\tQ64a_4\n",
      "0.0068061290041593735\tQ15_3\n",
      "0.007646689867471361\tQ54a\n",
      "0.007664088851889691\tQ57a\n",
      "0.00817919541453348\tQ49a\n",
      "0.008464773468943834\tQ60a\n",
      "0.008656936798995978\tSentralitet\n",
      "0.00878516282442872\tQ63a\n",
      "0.00981457532911887\tQ2_1\n",
      "0.009833842277285641\tQ52a\n",
      "0.00993431303352275\tQ5_1\n",
      "0.010153872367450401\tQ1_natur_kom_3\n",
      "0.010687462503860936\tQ6_1\n",
      "0.011002430078713335\tQ56a\n",
      "0.011475725503008516\tQ10_1\n",
      "0.011577732409970938\tQ66a_1\n",
      "0.011889490034328898\tQ1_arbeid_kom_1\n",
      "0.011989129468633064\tQ58a\n",
      "0.012273964242829189\tQ1_renovasjon_kom_1\n",
      "0.012588281691582548\tQ1_kultur_kom_3\n",
      "0.012694241408382713\tQ19_1\n",
      "0.012778020865121814\tQ53a\n",
      "0.012978172662635224\tQ1_kultur_kom_7\n",
      "0.013081381788555514\tQ7_1\n",
      "0.01324998691360584\tQ1_kultur_kom_6\n",
      "0.013697610340858528\tQ1_renovasjon_kom_2\n",
      "0.013700884013148912\tKommunestr\n",
      "0.013702810204576681\tQ9_3\n",
      "0.013726319768543023\tAlderkat\n",
      "0.013854859722968368\tQ1_natur_kom_1\n",
      "0.01387554353045864\tQ3_2\n",
      "0.013896511089684895\tQ9_7\n",
      "0.013983077202780799\tQ1_samferdsel_kom_2\n",
      "0.014443158761305017\tQ1_samferdsel_kom_6\n",
      "0.014536832241242794\tQ1_kultur_kom_4\n",
      "0.01464816633034016\tQ19_2\n",
      "0.014660057410856332\tQ1_kultur_kom_2\n",
      "0.01477943153100179\tQ1_samferdsel_kom_3\n",
      "0.01484891497283616\tQ1_kultur_kom_5\n",
      "0.014911910545939528\tQ1_kultur_kom_1\n",
      "0.014919307424628384\tQ3_3\n",
      "0.015039541922128717\tQ9_4\n",
      "0.01506131726720512\tQ1_samferdsel_kom_1\n",
      "0.01515076919499053\tQ9_11\n",
      "0.015219038351241828\tQ9_9\n",
      "0.015273057554038865\tQ9_2\n",
      "0.015821821236410846\tQ1_natur_kom_2\n",
      "0.016238070920629198\tQ9_10\n",
      "0.01638600673086803\tQ3_1\n",
      "0.016562326412254448\tQ3_4\n",
      "0.016641317719285568\tQ9_1\n",
      "0.01668346435279387\tQ1_samferdsel_kom_5\n",
      "0.016727828562436736\tQ1_arbeid_kom_2\n",
      "0.016890818465243564\tQ3_5\n",
      "0.017077162558197165\tQ9_6\n",
      "0.01745192659811133\tQ14_1\n",
      "0.018317722191178862\tQ11_1\n",
      "0.01843003123651641\tQ13_1\n",
      "0.018547706856284752\tQ9_5\n",
      "0.01936564526774088\tQ1_samferdsel_kom_4\n",
      "0.019962125450929943\tQ61a\n",
      "0.02051818074330175\tQ1_arbeid_kom_3\n",
      "0.021579507532849443\tQ9_8\n",
      "0.022027474769078598\tFylke\n"
     ]
    }
   ],
   "source": [
    "# Feature importance scores\n",
    "import pandas as pd\n",
    "feature_imp = pd.Series(clf.feature_importances_,index=list(data.drop(['Q16'],axis=1))).sort_values(ascending=False)\n",
    "\n",
    "for i in range(len(feature_imp)):\n",
    "    print(str(feature_imp[i]) + \"\\t\" + str(feature_imp.index[i]))"
   ]
  },
  {
   "cell_type": "markdown",
   "metadata": {},
   "source": [
    "### Visualizing feature importance"
   ]
  },
  {
   "cell_type": "code",
   "execution_count": 11,
   "metadata": {},
   "outputs": [
    {
     "name": "stderr",
     "output_type": "stream",
     "text": [
      "No handles with labels found to put in legend.\n"
     ]
    },
    {
     "data": {
      "image/png": "[encoded data removed]",
      "text/plain": [
       "<Figure size 432x288 with 1 Axes>"
      ]
     },
     "metadata": {
      "needs_background": "light"
     },
     "output_type": "display_data"
    }
   ],
   "source": [
    "import matplotlib.pyplot as plt\n",
    "import seaborn as sns\n",
    "%matplotlib inline\n",
    "# Creating a bar plot\n",
    "sns.barplot(x=feature_imp, y=feature_imp.index)\n",
    "# Add labels to your graph\n",
    "plt.xlabel('Feature Importance Score')\n",
    "plt.ylabel('Features')\n",
    "plt.title(\"Visualizing Important Features\")\n",
    "plt.legend()\n",
    "plt.show()"
   ]
  },
  {
   "cell_type": "code",
   "execution_count": null,
   "metadata": {},
   "outputs": [],
   "source": []
  }
 ],
 "metadata": {
  "kernelspec": {
   "display_name": "Python 3",
   "language": "python",
   "name": "python3"
  },
  "language_info": {
   "codemirror_mode": {
    "name": "ipython",
    "version": 3
   },
   "file_extension": ".py",
   "mimetype": "text/x-python",
   "name": "python",
   "nbconvert_exporter": "python",
   "pygments_lexer": "ipython3",
   "version": "3.8.5"
  }
 },
 "nbformat": 4,
 "nbformat_minor": 4
}
